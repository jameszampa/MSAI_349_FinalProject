{
 "cells": [
  {
   "cell_type": "code",
   "execution_count": 1,
   "metadata": {},
   "outputs": [],
   "source": [
    "import sys\n",
    "sys.path.append('..')"
   ]
  },
  {
   "cell_type": "code",
   "execution_count": 2,
   "metadata": {},
   "outputs": [],
   "source": [
    "from utils.read import read_data, read_df\n",
    "from model.naive_bayes import Bayes_Classifier"
   ]
  },
  {
   "cell_type": "code",
   "execution_count": 3,
   "metadata": {},
   "outputs": [],
   "source": [
    "from sklearn.metrics import f1_score, precision_score, recall_score"
   ]
  },
  {
   "cell_type": "code",
   "execution_count": 4,
   "metadata": {},
   "outputs": [],
   "source": [
    "# Read data\n",
    "train_landmarks = \"../dataset/train_landmarks.csv\"\n",
    "test_landmarks = \"../dataset/test_landmarks.csv\"\n",
    "train = read_df(train_landmarks)\n",
    "test = read_df(test_landmarks)"
   ]
  },
  {
   "cell_type": "code",
   "execution_count": 5,
   "metadata": {},
   "outputs": [
    {
     "name": "stdout",
     "output_type": "stream",
     "text": [
      "Total observations:  34190\n",
      "Train observations:  27352\n",
      "Test observations:  6838\n"
     ]
    }
   ],
   "source": [
    "print(\"Total observations: \", len(train) + len(test))\n",
    "print(\"Train observations: \", len(train))\n",
    "print(\"Test observations: \", len(test))"
   ]
  },
  {
   "cell_type": "code",
   "execution_count": 6,
   "metadata": {},
   "outputs": [],
   "source": [
    "unique_class_count = {}\n",
    "for idx in train.index:\n",
    "    if train.loc[idx, 'label'] not in unique_class_count:\n",
    "        unique_class_count[train.loc[idx, 'label']] = 1\n",
    "    else:\n",
    "        unique_class_count[train.loc[idx, 'label']] += 1\n",
    "for idx in test.index:\n",
    "    if test.loc[idx, 'label'] not in unique_class_count:\n",
    "        unique_class_count[test.loc[idx, 'label']] = 1\n",
    "    else:\n",
    "        unique_class_count[test.loc[idx, 'label']] += 1"
   ]
  },
  {
   "cell_type": "code",
   "execution_count": 7,
   "metadata": {},
   "outputs": [
    {
     "name": "stdout",
     "output_type": "stream",
     "text": [
      "Unique classes:  26\n",
      "Class distribution:  {'Y': 1315, 'F': 1315, 'W': 1315, 'D': 1315, 'V': 1315, 'Z': 1315, 'X': 1315, 'K': 1315, 'U': 1315, 'B': 1315, 'C': 1315, 'A': 1315, 'N': 1315, 'L': 1315, 'P': 1315, 'E': 1315, 'I': 1315, 'R': 1315, 'H': 1315, 'G': 1315, 'O': 1315, 'Q': 1315, 'J': 1315, 'T': 1315, 'M': 1315, 'S': 1315}\n"
     ]
    }
   ],
   "source": [
    "print(\"Unique classes: \", len(unique_class_count))\n",
    "print(\"Class distribution: \", unique_class_count)"
   ]
  },
  {
   "cell_type": "code",
   "execution_count": 8,
   "metadata": {},
   "outputs": [],
   "source": [
    "input_sizes = [50, 100, 150, 200, 250, 300]\n",
    "kernel_sizes = [1, 3, 5, 7, 9, 11]\n",
    "kernel_decay_methods = [\"distance\", \"none\"]\n",
    "prob_type = [\"individual\"] # \"collective\""
   ]
  },
  {
   "cell_type": "code",
   "execution_count": 9,
   "metadata": {},
   "outputs": [],
   "source": [
    "import pandas as pd\n",
    "\n",
    "# Create a dataframe to store the results\n",
    "columns = [\"input_size\", \"prob_type\", \"kernel_size\", \"decay_method\", \"accuracy\"]\n",
    "results = pd.DataFrame(columns=columns)"
   ]
  },
  {
   "cell_type": "code",
   "execution_count": 10,
   "metadata": {},
   "outputs": [],
   "source": [
    "# model = Bayes_Classifier(\"landmarks\", 250, 250, \"individual\", 9, \"distance\")\n",
    "# model.train(train)\n",
    "\n",
    "# # Test the model\n",
    "# df = model.classify(test)\n",
    "# df[\"correct\"] = df[\"label\"] == df[\"predicted_label\"]\n",
    "# accuracy = df[\"correct\"].sum() / len(df)"
   ]
  },
  {
   "cell_type": "code",
   "execution_count": 11,
   "metadata": {},
   "outputs": [],
   "source": [
    "# f1 = f1_score(df[\"label\"], df[\"predicted_label\"], average=\"macro\")\n",
    "# precision = precision_score(df[\"label\"], df[\"predicted_label\"], average=\"macro\")\n",
    "# recall = recall_score(df[\"label\"], df[\"predicted_label\"], average=\"macro\")\n",
    "# print(\"Accuracy: \", accuracy)\n",
    "# print(\"F1: \", f1)\n",
    "# print(\"Precision: \", precision)\n",
    "# print(\"Recall: \", recall)"
   ]
  },
  {
   "cell_type": "code",
   "execution_count": 12,
   "metadata": {},
   "outputs": [],
   "source": [
    "# Read image data\n",
    "train_dir = \"../dataset/train_binary\"\n",
    "test_dir = \"../dataset/test_binary\"\n",
    "test_features, test_labels = read_data(test_dir, flatten=1, grayscale=1, resize=(50, 50))"
   ]
  },
  {
   "cell_type": "code",
   "execution_count": 13,
   "metadata": {},
   "outputs": [],
   "source": [
    "from utils.read import read_data\n",
    "from utils.preprocessing import DimensionReduction\n",
    "from sklearn.preprocessing import StandardScaler\n",
    "import numpy as np\n",
    "\n",
    "train_features, train_labels = read_data(train_dir, flatten=1, grayscale=1, resize=(50, 50))\n",
    "scaler = StandardScaler()\n",
    "scaler.fit(train_features)\n",
    "train_features = scaler.transform(train_features)\n",
    "test_features = scaler.transform(test_features)\n",
    "\n",
    "train_features = np.array(train_features)\n",
    "pca = DimensionReduction(train_features,n_component=588)\n",
    "train_projected = pca.pca_transform(train_features)\n",
    "test_projected = pca.pca_transform(test_features)\n"
   ]
  },
  {
   "cell_type": "code",
   "execution_count": 14,
   "metadata": {},
   "outputs": [
    {
     "name": "stdout",
     "output_type": "stream",
     "text": [
      "Accuracy:  0.08686750511845569\n",
      "F1:  0.03268152998699529\n",
      "Precision:  0.02517286368885013\n",
      "Recall:  0.08686750511845569\n"
     ]
    },
    {
     "name": "stderr",
     "output_type": "stream",
     "text": [
      "/home/james/anaconda3/envs/349/lib/python3.10/site-packages/sklearn/metrics/_classification.py:1471: UndefinedMetricWarning: Precision is ill-defined and being set to 0.0 in labels with no predicted samples. Use `zero_division` parameter to control this behavior.\n",
      "  _warn_prf(average, modifier, msg_start, len(result))\n"
     ]
    }
   ],
   "source": [
    "naive_bayes = Bayes_Classifier(feature_type='pixels')\n",
    "naive_bayes.train((train_projected, train_labels))\n",
    "preds = naive_bayes.classify((test_projected, test_labels))\n",
    "# Create a new df with results\n",
    "df = pd.DataFrame(columns=[\"label\", \"predicted_label\"])\n",
    "df[\"label\"] = test_labels\n",
    "df[\"predicted_label\"] = preds\n",
    "df[\"correct\"] = df[\"label\"] == df[\"predicted_label\"]\n",
    "accuracy = df[\"correct\"].sum() / len(df)\n",
    "f1 = f1_score(df[\"label\"], df[\"predicted_label\"], average=\"macro\")\n",
    "precision = precision_score(df[\"label\"], df[\"predicted_label\"], average=\"macro\")\n",
    "recall = recall_score(df[\"label\"], df[\"predicted_label\"], average=\"macro\")\n",
    "print(\"Accuracy: \", accuracy)\n",
    "print(\"F1: \", f1)\n",
    "print(\"Precision: \", precision)\n",
    "print(\"Recall: \", recall)"
   ]
  },
  {
   "cell_type": "code",
   "execution_count": 15,
   "metadata": {},
   "outputs": [],
   "source": [
    "# for input_size in input_sizes:\n",
    "#     for prob in prob_type:\n",
    "#         for kernel_size in kernel_sizes:\n",
    "#             if kernel_size > 1:\n",
    "#                 for dcm in kernel_decay_methods:\n",
    "#                     # Train the model\n",
    "#                     model = Bayes_Classifier(\"landmarks\", input_size, input_size, prob, kernel_size, dcm)\n",
    "#                     model.train(train)\n",
    "\n",
    "#                     # Test the model\n",
    "#                     df = model.classify(test)\n",
    "#                     df[\"correct\"] = df[\"label\"] == df[\"predicted_label\"]\n",
    "#                     accuracy = df[\"correct\"].sum() / len(df)\n",
    "\n",
    "#                     results.loc[len(results)] = {\n",
    "#                         \"input_size\": input_size,\n",
    "#                         \"prob_type\": prob,\n",
    "#                         \"kernel_size\": kernel_size,\n",
    "#                         \"decay_method\": dcm,\n",
    "#                         \"accuracy\": accuracy\n",
    "#                     }\n",
    "#                     print(\"input_size: {}, prob_type: {}, kernel_size: {}, decay_method: {}, accuracy: {}\".format(input_size, prob, kernel_size, dcm, accuracy))\n",
    "#             else:\n",
    "#                 # Train the model\n",
    "#                 model = Bayes_Classifier(\"landmarks\", input_size, input_size, prob, kernel_size, \"none\")\n",
    "#                 model.train(train)\n",
    "\n",
    "#                 # Test the model\n",
    "#                 df = model.classify(test)\n",
    "#                 df[\"correct\"] = df[\"label\"] == df[\"predicted_label\"]\n",
    "#                 accuracy = df[\"correct\"].sum() / len(df)\n",
    "\n",
    "#                 results.loc[len(results)] = {\n",
    "#                     \"input_size\": input_size,\n",
    "#                     \"prob_type\": prob,\n",
    "#                     \"kernel_size\": kernel_size,\n",
    "#                     \"decay_method\": None,\n",
    "#                     \"accuracy\": accuracy\n",
    "#                 }\n",
    "#                 print(\"input_size: {}, prob_type: {}, kernel_size: {}, decay_method: {}, accuracy: {}\".format(input_size, prob, kernel_size, None, accuracy))\n",
    "            "
   ]
  },
  {
   "cell_type": "code",
   "execution_count": 16,
   "metadata": {},
   "outputs": [],
   "source": [
    "# results.head(len(results))"
   ]
  },
  {
   "cell_type": "code",
   "execution_count": 17,
   "metadata": {},
   "outputs": [],
   "source": [
    "# print(\"Best accuracy: {}\".format(results[\"accuracy\"].max()))\n",
    "# results[results[\"accuracy\"] == results[\"accuracy\"].max()]"
   ]
  }
 ],
 "metadata": {
  "kernelspec": {
   "display_name": "349",
   "language": "python",
   "name": "python3"
  },
  "language_info": {
   "codemirror_mode": {
    "name": "ipython",
    "version": 3
   },
   "file_extension": ".py",
   "mimetype": "text/x-python",
   "name": "python",
   "nbconvert_exporter": "python",
   "pygments_lexer": "ipython3",
   "version": "3.10.13"
  }
 },
 "nbformat": 4,
 "nbformat_minor": 2
}
