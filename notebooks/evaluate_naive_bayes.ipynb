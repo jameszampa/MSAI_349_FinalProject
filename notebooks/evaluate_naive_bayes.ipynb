{
 "cells": [
  {
   "cell_type": "code",
   "execution_count": 1,
   "metadata": {},
   "outputs": [],
   "source": [
    "import sys\n",
    "sys.path.append('..')"
   ]
  },
  {
   "cell_type": "code",
   "execution_count": 2,
   "metadata": {},
   "outputs": [],
   "source": [
    "from utils.read import read_data, read_df\n",
    "from model.naive_bayes import Bayes_Classifier"
   ]
  },
  {
   "cell_type": "code",
   "execution_count": 3,
   "metadata": {},
   "outputs": [],
   "source": [
    "# Read image data\n",
    "train_dir = \"../dataset/train_binary\"\n",
    "test_dir = \"../dataset/test_binary\"\n",
    "features, labels = read_data(train_dir, flatten=1, grayscale=1, resize=(30, 30))\n",
    "test_features, test_labels = read_data(test_dir, flatten=1, grayscale=1, resize=(30, 30))\n",
    "# Read data\n",
    "train_landmarks = \"../dataset/train_landmarks.csv\"\n",
    "test_landmarks = \"../dataset/test_landmarks.csv\"\n",
    "train = read_df(train_landmarks)\n",
    "test = read_df(test_landmarks)"
   ]
  },
  {
   "cell_type": "code",
   "execution_count": 4,
   "metadata": {},
   "outputs": [
    {
     "name": "stdout",
     "output_type": "stream",
     "text": [
      "Accuracy: 0.17709856683240713\n"
     ]
    }
   ],
   "source": [
    "naive_bayes = Bayes_Classifier(feature_type='landmarks', width=60, height=60, landmark_weight=1000)\n",
    "naive_bayes.train(train)\n",
    "df = naive_bayes.classify(test)\n",
    "# calculate accuracy\n",
    "df['correct'] = df['label'] == df['predicted_label']\n",
    "print(\"Accuracy: {}\".format(df['correct'].sum() / len(df)))"
   ]
  },
  {
   "cell_type": "code",
   "execution_count": 5,
   "metadata": {},
   "outputs": [
    {
     "name": "stdout",
     "output_type": "stream",
     "text": [
      "Accuracy: 0.12415911085112606\n"
     ]
    }
   ],
   "source": [
    "naive_bayes = Bayes_Classifier(feature_type='pixels')\n",
    "naive_bayes.train((features, labels))\n",
    "preds = naive_bayes.classify((test_features, test_labels))\n",
    "# calculate accuracy\n",
    "correct = 0\n",
    "for i in range(len(preds)):\n",
    "    if preds[i] == test_labels[i]:\n",
    "        correct += 1\n",
    "print(\"Accuracy: {}\".format(correct / len(preds)))"
   ]
  }
 ],
 "metadata": {
  "kernelspec": {
   "display_name": "349",
   "language": "python",
   "name": "python3"
  },
  "language_info": {
   "codemirror_mode": {
    "name": "ipython",
    "version": 3
   },
   "file_extension": ".py",
   "mimetype": "text/x-python",
   "name": "python",
   "nbconvert_exporter": "python",
   "pygments_lexer": "ipython3",
   "version": "3.10.13"
  }
 },
 "nbformat": 4,
 "nbformat_minor": 2
}
