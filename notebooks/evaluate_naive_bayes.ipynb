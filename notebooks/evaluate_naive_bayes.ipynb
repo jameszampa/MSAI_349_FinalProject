{
 "cells": [
  {
   "cell_type": "code",
   "execution_count": 1,
   "metadata": {},
   "outputs": [],
   "source": [
    "import sys\n",
    "sys.path.append('..')"
   ]
  },
  {
   "cell_type": "code",
   "execution_count": 2,
   "metadata": {},
   "outputs": [],
   "source": [
    "from utils.read import read_data, read_df\n",
    "from model.naive_bayes import Bayes_Classifier"
   ]
  },
  {
   "cell_type": "code",
   "execution_count": 3,
   "metadata": {},
   "outputs": [],
   "source": [
    "# Read data\n",
    "train_landmarks = \"../dataset/train_landmarks.csv\"\n",
    "test_landmarks = \"../dataset/test_landmarks.csv\"\n",
    "train = read_df(train_landmarks)\n",
    "test = read_df(test_landmarks)"
   ]
  },
  {
   "cell_type": "code",
   "execution_count": 4,
   "metadata": {},
   "outputs": [],
   "source": [
    "input_sizes = [50, 100, 150, 200, 250, 300]\n",
    "kernel_sizes = [1, 3, 5, 7, 9, 11]\n",
    "kernel_decay_methods = [\"distance\", \"none\"]\n",
    "prob_type = [\"individual\"] # \"collective\""
   ]
  },
  {
   "cell_type": "code",
   "execution_count": 5,
   "metadata": {},
   "outputs": [],
   "source": [
    "import pandas as pd\n",
    "\n",
    "# Create a dataframe to store the results\n",
    "columns = [\"input_size\", \"prob_type\", \"kernel_size\", \"decay_method\", \"accuracy\"]\n",
    "results = pd.DataFrame(columns=columns)"
   ]
  },
  {
   "cell_type": "code",
   "execution_count": 6,
   "metadata": {},
   "outputs": [
    {
     "name": "stdout",
     "output_type": "stream",
     "text": [
      "input_size: 50, prob_type: individual, kernel_size: 1, decay_method: None, accuracy: 0.6092424685580579\n",
      "input_size: 50, prob_type: individual, kernel_size: 3, decay_method: distance, accuracy: 0.6218192453933898\n",
      "input_size: 50, prob_type: individual, kernel_size: 3, decay_method: none, accuracy: 0.5997367651360047\n",
      "input_size: 50, prob_type: individual, kernel_size: 5, decay_method: distance, accuracy: 0.5703422053231939\n",
      "input_size: 50, prob_type: individual, kernel_size: 5, decay_method: none, accuracy: 0.5340742907282832\n",
      "input_size: 50, prob_type: individual, kernel_size: 7, decay_method: distance, accuracy: 0.5393389880081896\n",
      "input_size: 50, prob_type: individual, kernel_size: 7, decay_method: none, accuracy: 0.4982451009066979\n",
      "input_size: 50, prob_type: individual, kernel_size: 9, decay_method: distance, accuracy: 0.5226674466218193\n",
      "input_size: 50, prob_type: individual, kernel_size: 9, decay_method: none, accuracy: 0.47104416496051477\n",
      "input_size: 50, prob_type: individual, kernel_size: 11, decay_method: distance, accuracy: 0.5099444281953788\n",
      "input_size: 50, prob_type: individual, kernel_size: 11, decay_method: none, accuracy: 0.4561275226674466\n",
      "input_size: 100, prob_type: individual, kernel_size: 1, decay_method: None, accuracy: 0.4619771863117871\n",
      "input_size: 100, prob_type: individual, kernel_size: 3, decay_method: distance, accuracy: 0.7094179584673881\n",
      "input_size: 100, prob_type: individual, kernel_size: 3, decay_method: none, accuracy: 0.6966949400409477\n",
      "input_size: 100, prob_type: individual, kernel_size: 5, decay_method: distance, accuracy: 0.6787072243346007\n",
      "input_size: 100, prob_type: individual, kernel_size: 5, decay_method: none, accuracy: 0.6529687042995028\n",
      "input_size: 100, prob_type: individual, kernel_size: 7, decay_method: distance, accuracy: 0.6437554840596665\n",
      "input_size: 100, prob_type: individual, kernel_size: 7, decay_method: none, accuracy: 0.6052939455981281\n",
      "input_size: 100, prob_type: individual, kernel_size: 9, decay_method: distance, accuracy: 0.6174319976601346\n",
      "input_size: 100, prob_type: individual, kernel_size: 9, decay_method: none, accuracy: 0.5687335478210003\n",
      "input_size: 100, prob_type: individual, kernel_size: 11, decay_method: distance, accuracy: 0.5952032758116408\n",
      "input_size: 100, prob_type: individual, kernel_size: 11, decay_method: none, accuracy: 0.5378765720971044\n",
      "input_size: 150, prob_type: individual, kernel_size: 1, decay_method: None, accuracy: 0.3686750511845569\n",
      "input_size: 150, prob_type: individual, kernel_size: 3, decay_method: distance, accuracy: 0.6861655454811348\n",
      "input_size: 150, prob_type: individual, kernel_size: 3, decay_method: none, accuracy: 0.6866042702544604\n",
      "input_size: 150, prob_type: individual, kernel_size: 5, decay_method: distance, accuracy: 0.7181924539338989\n",
      "input_size: 150, prob_type: individual, kernel_size: 5, decay_method: none, accuracy: 0.7092717168762797\n",
      "input_size: 150, prob_type: individual, kernel_size: 7, decay_method: distance, accuracy: 0.6978648727698157\n",
      "input_size: 150, prob_type: individual, kernel_size: 7, decay_method: none, accuracy: 0.6754899093302135\n",
      "input_size: 150, prob_type: individual, kernel_size: 9, decay_method: distance, accuracy: 0.6730038022813688\n",
      "input_size: 150, prob_type: individual, kernel_size: 9, decay_method: none, accuracy: 0.6365896460953495\n",
      "input_size: 150, prob_type: individual, kernel_size: 11, decay_method: distance, accuracy: 0.6539923954372624\n",
      "input_size: 150, prob_type: individual, kernel_size: 11, decay_method: none, accuracy: 0.6071950862825387\n",
      "input_size: 200, prob_type: individual, kernel_size: 1, decay_method: None, accuracy: 0.30096519450131615\n",
      "input_size: 200, prob_type: individual, kernel_size: 3, decay_method: distance, accuracy: 0.6286926001754899\n",
      "input_size: 200, prob_type: individual, kernel_size: 3, decay_method: none, accuracy: 0.6317636735887686\n",
      "input_size: 200, prob_type: individual, kernel_size: 5, decay_method: distance, accuracy: 0.7075168177829775\n",
      "input_size: 200, prob_type: individual, kernel_size: 5, decay_method: none, accuracy: 0.7042995027785902\n",
      "input_size: 200, prob_type: individual, kernel_size: 7, decay_method: distance, accuracy: 0.7187774202983328\n",
      "input_size: 200, prob_type: individual, kernel_size: 7, decay_method: none, accuracy: 0.7091254752851711\n",
      "input_size: 200, prob_type: individual, kernel_size: 9, decay_method: distance, accuracy: 0.707663059374086\n",
      "input_size: 200, prob_type: individual, kernel_size: 9, decay_method: none, accuracy: 0.6877742029833285\n",
      "input_size: 200, prob_type: individual, kernel_size: 11, decay_method: distance, accuracy: 0.6880666861655454\n",
      "input_size: 200, prob_type: individual, kernel_size: 11, decay_method: none, accuracy: 0.6582334015794092\n",
      "input_size: 250, prob_type: individual, kernel_size: 1, decay_method: None, accuracy: 0.259432582626499\n",
      "input_size: 250, prob_type: individual, kernel_size: 3, decay_method: distance, accuracy: 0.5722433460076045\n",
      "input_size: 250, prob_type: individual, kernel_size: 3, decay_method: none, accuracy: 0.5720971044164961\n",
      "input_size: 250, prob_type: individual, kernel_size: 5, decay_method: distance, accuracy: 0.6673003802281369\n",
      "input_size: 250, prob_type: individual, kernel_size: 5, decay_method: none, accuracy: 0.6680315881836795\n",
      "input_size: 250, prob_type: individual, kernel_size: 7, decay_method: distance, accuracy: 0.7119040655162329\n",
      "input_size: 250, prob_type: individual, kernel_size: 7, decay_method: none, accuracy: 0.7072243346007605\n",
      "input_size: 250, prob_type: individual, kernel_size: 9, decay_method: distance, accuracy: 0.7221409768938286\n",
      "input_size: 250, prob_type: individual, kernel_size: 9, decay_method: none, accuracy: 0.7114653407429072\n",
      "input_size: 250, prob_type: individual, kernel_size: 11, decay_method: distance, accuracy: 0.71512138052062\n",
      "input_size: 250, prob_type: individual, kernel_size: 11, decay_method: none, accuracy: 0.6965486984498391\n",
      "input_size: 300, prob_type: individual, kernel_size: 1, decay_method: None, accuracy: 0.22126352734717752\n",
      "input_size: 300, prob_type: individual, kernel_size: 3, decay_method: distance, accuracy: 0.5264697279906405\n",
      "input_size: 300, prob_type: individual, kernel_size: 3, decay_method: none, accuracy: 0.5247148288973384\n",
      "input_size: 300, prob_type: individual, kernel_size: 5, decay_method: distance, accuracy: 0.6282538754021644\n",
      "input_size: 300, prob_type: individual, kernel_size: 5, decay_method: none, accuracy: 0.6272301842644048\n",
      "input_size: 300, prob_type: individual, kernel_size: 7, decay_method: distance, accuracy: 0.6899678268499562\n",
      "input_size: 300, prob_type: individual, kernel_size: 7, decay_method: none, accuracy: 0.6909915179877157\n",
      "input_size: 300, prob_type: individual, kernel_size: 9, decay_method: distance, accuracy: 0.7161450716583796\n",
      "input_size: 300, prob_type: individual, kernel_size: 9, decay_method: none, accuracy: 0.7116115823340158\n",
      "input_size: 300, prob_type: individual, kernel_size: 11, decay_method: distance, accuracy: 0.7209710441649605\n",
      "input_size: 300, prob_type: individual, kernel_size: 11, decay_method: none, accuracy: 0.7097104416496052\n"
     ]
    }
   ],
   "source": [
    "for input_size in input_sizes:\n",
    "    for prob in prob_type:\n",
    "        for kernel_size in kernel_sizes:\n",
    "            if kernel_size > 1:\n",
    "                for dcm in kernel_decay_methods:\n",
    "                    # Train the model\n",
    "                    model = Bayes_Classifier(\"landmarks\", input_size, input_size, prob, kernel_size, dcm)\n",
    "                    model.train(train)\n",
    "\n",
    "                    # Test the model\n",
    "                    df = model.classify(test)\n",
    "                    df[\"correct\"] = df[\"label\"] == df[\"predicted_label\"]\n",
    "                    accuracy = df[\"correct\"].sum() / len(df)\n",
    "\n",
    "                    results.loc[len(results)] = {\n",
    "                        \"input_size\": input_size,\n",
    "                        \"prob_type\": prob,\n",
    "                        \"kernel_size\": kernel_size,\n",
    "                        \"decay_method\": dcm,\n",
    "                        \"accuracy\": accuracy\n",
    "                    }\n",
    "                    print(\"input_size: {}, prob_type: {}, kernel_size: {}, decay_method: {}, accuracy: {}\".format(input_size, prob, kernel_size, dcm, accuracy))\n",
    "            else:\n",
    "                # Train the model\n",
    "                model = Bayes_Classifier(\"landmarks\", input_size, input_size, prob, kernel_size, \"none\")\n",
    "                model.train(train)\n",
    "\n",
    "                # Test the model\n",
    "                df = model.classify(test)\n",
    "                df[\"correct\"] = df[\"label\"] == df[\"predicted_label\"]\n",
    "                accuracy = df[\"correct\"].sum() / len(df)\n",
    "\n",
    "                results.loc[len(results)] = {\n",
    "                    \"input_size\": input_size,\n",
    "                    \"prob_type\": prob,\n",
    "                    \"kernel_size\": kernel_size,\n",
    "                    \"decay_method\": None,\n",
    "                    \"accuracy\": accuracy\n",
    "                }\n",
    "                print(\"input_size: {}, prob_type: {}, kernel_size: {}, decay_method: {}, accuracy: {}\".format(input_size, prob, kernel_size, None, accuracy))\n",
    "            "
   ]
  },
  {
   "cell_type": "code",
   "execution_count": 7,
   "metadata": {},
   "outputs": [
    {
     "data": {
      "text/html": [
       "<div>\n",
       "<style scoped>\n",
       "    .dataframe tbody tr th:only-of-type {\n",
       "        vertical-align: middle;\n",
       "    }\n",
       "\n",
       "    .dataframe tbody tr th {\n",
       "        vertical-align: top;\n",
       "    }\n",
       "\n",
       "    .dataframe thead th {\n",
       "        text-align: right;\n",
       "    }\n",
       "</style>\n",
       "<table border=\"1\" class=\"dataframe\">\n",
       "  <thead>\n",
       "    <tr style=\"text-align: right;\">\n",
       "      <th></th>\n",
       "      <th>input_size</th>\n",
       "      <th>prob_type</th>\n",
       "      <th>kernel_size</th>\n",
       "      <th>decay_method</th>\n",
       "      <th>accuracy</th>\n",
       "    </tr>\n",
       "  </thead>\n",
       "  <tbody>\n",
       "    <tr>\n",
       "      <th>0</th>\n",
       "      <td>50</td>\n",
       "      <td>individual</td>\n",
       "      <td>1</td>\n",
       "      <td>None</td>\n",
       "      <td>0.609242</td>\n",
       "    </tr>\n",
       "    <tr>\n",
       "      <th>1</th>\n",
       "      <td>50</td>\n",
       "      <td>individual</td>\n",
       "      <td>3</td>\n",
       "      <td>distance</td>\n",
       "      <td>0.621819</td>\n",
       "    </tr>\n",
       "    <tr>\n",
       "      <th>2</th>\n",
       "      <td>50</td>\n",
       "      <td>individual</td>\n",
       "      <td>3</td>\n",
       "      <td>none</td>\n",
       "      <td>0.599737</td>\n",
       "    </tr>\n",
       "    <tr>\n",
       "      <th>3</th>\n",
       "      <td>50</td>\n",
       "      <td>individual</td>\n",
       "      <td>5</td>\n",
       "      <td>distance</td>\n",
       "      <td>0.570342</td>\n",
       "    </tr>\n",
       "    <tr>\n",
       "      <th>4</th>\n",
       "      <td>50</td>\n",
       "      <td>individual</td>\n",
       "      <td>5</td>\n",
       "      <td>none</td>\n",
       "      <td>0.534074</td>\n",
       "    </tr>\n",
       "    <tr>\n",
       "      <th>...</th>\n",
       "      <td>...</td>\n",
       "      <td>...</td>\n",
       "      <td>...</td>\n",
       "      <td>...</td>\n",
       "      <td>...</td>\n",
       "    </tr>\n",
       "    <tr>\n",
       "      <th>61</th>\n",
       "      <td>300</td>\n",
       "      <td>individual</td>\n",
       "      <td>7</td>\n",
       "      <td>none</td>\n",
       "      <td>0.690992</td>\n",
       "    </tr>\n",
       "    <tr>\n",
       "      <th>62</th>\n",
       "      <td>300</td>\n",
       "      <td>individual</td>\n",
       "      <td>9</td>\n",
       "      <td>distance</td>\n",
       "      <td>0.716145</td>\n",
       "    </tr>\n",
       "    <tr>\n",
       "      <th>63</th>\n",
       "      <td>300</td>\n",
       "      <td>individual</td>\n",
       "      <td>9</td>\n",
       "      <td>none</td>\n",
       "      <td>0.711612</td>\n",
       "    </tr>\n",
       "    <tr>\n",
       "      <th>64</th>\n",
       "      <td>300</td>\n",
       "      <td>individual</td>\n",
       "      <td>11</td>\n",
       "      <td>distance</td>\n",
       "      <td>0.720971</td>\n",
       "    </tr>\n",
       "    <tr>\n",
       "      <th>65</th>\n",
       "      <td>300</td>\n",
       "      <td>individual</td>\n",
       "      <td>11</td>\n",
       "      <td>none</td>\n",
       "      <td>0.709710</td>\n",
       "    </tr>\n",
       "  </tbody>\n",
       "</table>\n",
       "<p>66 rows × 5 columns</p>\n",
       "</div>"
      ],
      "text/plain": [
       "    input_size   prob_type  kernel_size decay_method  accuracy\n",
       "0           50  individual            1         None  0.609242\n",
       "1           50  individual            3     distance  0.621819\n",
       "2           50  individual            3         none  0.599737\n",
       "3           50  individual            5     distance  0.570342\n",
       "4           50  individual            5         none  0.534074\n",
       "..         ...         ...          ...          ...       ...\n",
       "61         300  individual            7         none  0.690992\n",
       "62         300  individual            9     distance  0.716145\n",
       "63         300  individual            9         none  0.711612\n",
       "64         300  individual           11     distance  0.720971\n",
       "65         300  individual           11         none  0.709710\n",
       "\n",
       "[66 rows x 5 columns]"
      ]
     },
     "execution_count": 7,
     "metadata": {},
     "output_type": "execute_result"
    }
   ],
   "source": [
    "results.head(len(results))"
   ]
  },
  {
   "cell_type": "code",
   "execution_count": 8,
   "metadata": {},
   "outputs": [
    {
     "name": "stdout",
     "output_type": "stream",
     "text": [
      "Best accuracy: 0.7221409768938286\n"
     ]
    },
    {
     "data": {
      "text/html": [
       "<div>\n",
       "<style scoped>\n",
       "    .dataframe tbody tr th:only-of-type {\n",
       "        vertical-align: middle;\n",
       "    }\n",
       "\n",
       "    .dataframe tbody tr th {\n",
       "        vertical-align: top;\n",
       "    }\n",
       "\n",
       "    .dataframe thead th {\n",
       "        text-align: right;\n",
       "    }\n",
       "</style>\n",
       "<table border=\"1\" class=\"dataframe\">\n",
       "  <thead>\n",
       "    <tr style=\"text-align: right;\">\n",
       "      <th></th>\n",
       "      <th>input_size</th>\n",
       "      <th>prob_type</th>\n",
       "      <th>kernel_size</th>\n",
       "      <th>decay_method</th>\n",
       "      <th>accuracy</th>\n",
       "    </tr>\n",
       "  </thead>\n",
       "  <tbody>\n",
       "    <tr>\n",
       "      <th>51</th>\n",
       "      <td>250</td>\n",
       "      <td>individual</td>\n",
       "      <td>9</td>\n",
       "      <td>distance</td>\n",
       "      <td>0.722141</td>\n",
       "    </tr>\n",
       "  </tbody>\n",
       "</table>\n",
       "</div>"
      ],
      "text/plain": [
       "    input_size   prob_type  kernel_size decay_method  accuracy\n",
       "51         250  individual            9     distance  0.722141"
      ]
     },
     "execution_count": 8,
     "metadata": {},
     "output_type": "execute_result"
    }
   ],
   "source": [
    "print(\"Best accuracy: {}\".format(results[\"accuracy\"].max()))\n",
    "results[results[\"accuracy\"] == results[\"accuracy\"].max()]"
   ]
  },
  {
   "cell_type": "code",
   "execution_count": 9,
   "metadata": {},
   "outputs": [],
   "source": [
    "# Read image data\n",
    "train_dir = \"../dataset/train_binary\"\n",
    "test_dir = \"../dataset/test_binary\"\n",
    "features, labels = read_data(train_dir, flatten=1, grayscale=1, resize=(30, 30))\n",
    "test_features, test_labels = read_data(test_dir, flatten=1, grayscale=1, resize=(30, 30))"
   ]
  },
  {
   "cell_type": "code",
   "execution_count": 10,
   "metadata": {},
   "outputs": [
    {
     "name": "stdout",
     "output_type": "stream",
     "text": [
      "Accuracy: 0.11860193038900263\n"
     ]
    }
   ],
   "source": [
    "naive_bayes = Bayes_Classifier(feature_type='pixels')\n",
    "naive_bayes.train((features, labels))\n",
    "preds = naive_bayes.classify((test_features, test_labels))\n",
    "# calculate accuracy\n",
    "correct = 0\n",
    "for i in range(len(preds)):\n",
    "    if preds[i] == test_labels[i]:\n",
    "        correct += 1\n",
    "print(\"Accuracy: {}\".format(correct / len(preds)))"
   ]
  },
  {
   "cell_type": "code",
   "execution_count": 11,
   "metadata": {},
   "outputs": [],
   "source": [
    "train_dir = \"../dataset/train\"\n",
    "test_dir = \"../dataset/test\"\n",
    "features, labels = read_data(train_dir, flatten=1, grayscale=1, resize=(30, 30))\n",
    "test_features, test_labels = read_data(test_dir, flatten=1, grayscale=1, resize=(30, 30))"
   ]
  },
  {
   "cell_type": "code",
   "execution_count": 12,
   "metadata": {},
   "outputs": [
    {
     "name": "stdout",
     "output_type": "stream",
     "text": [
      "Accuracy: 0.1335185726820708\n"
     ]
    }
   ],
   "source": [
    "naive_bayes = Bayes_Classifier(feature_type='pixels')\n",
    "naive_bayes.train((features, labels))\n",
    "preds = naive_bayes.classify((test_features, test_labels))\n",
    "# calculate accuracy\n",
    "correct = 0\n",
    "for i in range(len(preds)):\n",
    "    if preds[i] == test_labels[i]:\n",
    "        correct += 1\n",
    "print(\"Accuracy: {}\".format(correct / len(preds)))"
   ]
  }
 ],
 "metadata": {
  "kernelspec": {
   "display_name": "349",
   "language": "python",
   "name": "python3"
  },
  "language_info": {
   "codemirror_mode": {
    "name": "ipython",
    "version": 3
   },
   "file_extension": ".py",
   "mimetype": "text/x-python",
   "name": "python",
   "nbconvert_exporter": "python",
   "pygments_lexer": "ipython3",
   "version": "3.10.13"
  }
 },
 "nbformat": 4,
 "nbformat_minor": 2
}
