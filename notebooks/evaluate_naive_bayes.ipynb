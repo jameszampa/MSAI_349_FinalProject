{
 "cells": [
  {
   "cell_type": "code",
   "execution_count": 1,
   "metadata": {},
   "outputs": [],
   "source": [
    "import sys\n",
    "sys.path.append('..')"
   ]
  },
  {
   "cell_type": "code",
   "execution_count": 2,
   "metadata": {},
   "outputs": [],
   "source": [
    "import numpy as np\n",
    "\n",
    "# from sklearn.naive_bayes import GaussianNB\n",
    "from model.naive_bayes import NaiveBayes\n",
    "from sklearn.preprocessing import StandardScaler\n",
    "from sklearn.metrics import accuracy_score, precision_score, recall_score, f1_score\n",
    "\n",
    "from utils.read import read_data, read_df\n",
    "from utils.preprocessing import DimensionReduction"
   ]
  },
  {
   "cell_type": "code",
   "execution_count": 3,
   "metadata": {},
   "outputs": [],
   "source": [
    "train_dir = \"../dataset/train\"\n",
    "test_dir = \"../dataset/test\""
   ]
  },
  {
   "cell_type": "code",
   "execution_count": 4,
   "metadata": {},
   "outputs": [],
   "source": [
    "train_features, train_labels = read_data(train_dir, flatten=1, grayscale=1, resize=(50, 50))\n",
    "test_features, test_labels = read_data(test_dir, flatten=1, grayscale=1, resize=(50, 50))"
   ]
  },
  {
   "cell_type": "code",
   "execution_count": 5,
   "metadata": {},
   "outputs": [],
   "source": [
    "scaler = StandardScaler()\n",
    "scaler.fit(train_features)\n",
    "\n",
    "train_features = scaler.transform(train_features)\n",
    "test_features = scaler.transform(test_features)"
   ]
  },
  {
   "cell_type": "code",
   "execution_count": 6,
   "metadata": {},
   "outputs": [],
   "source": [
    "pca = DimensionReduction(train_features, n_component=588)\n",
    "\n",
    "train_projected = pca.pca_transform(train_features)\n",
    "test_projected = pca.pca_transform(test_features)"
   ]
  },
  {
   "cell_type": "code",
   "execution_count": 7,
   "metadata": {},
   "outputs": [],
   "source": [
    "# nb = GaussianNB()\n",
    "nb = NaiveBayes()\n",
    "nb.fit(train_projected, train_labels)"
   ]
  },
  {
   "cell_type": "code",
   "execution_count": 8,
   "metadata": {},
   "outputs": [
    {
     "name": "stdout",
     "output_type": "stream",
     "text": [
      "Test accuracy:  0.31207955542556304\n",
      "Test precision:  0.4634101949880893\n",
      "Test recall:  0.31207955542556304\n",
      "Test f1:  0.3291180853102396\n"
     ]
    }
   ],
   "source": [
    "test_pred = nb.predict(test_projected)\n",
    "print(\"Test accuracy: \", accuracy_score(test_labels, test_pred))\n",
    "print(\"Test precision: \", precision_score(test_labels, test_pred, average='macro'))\n",
    "print(\"Test recall: \", recall_score(test_labels, test_pred, average='macro'))\n",
    "print(\"Test f1: \", f1_score(test_labels, test_pred, average='macro'))"
   ]
  },
  {
   "cell_type": "code",
   "execution_count": 9,
   "metadata": {},
   "outputs": [],
   "source": [
    "# Read data\n",
    "train_landmarks = \"../dataset/train_landmarks.csv\"\n",
    "test_landmarks = \"../dataset/test_landmarks.csv\"\n",
    "train = read_df(train_landmarks)\n",
    "test = read_df(test_landmarks)"
   ]
  },
  {
   "cell_type": "code",
   "execution_count": 10,
   "metadata": {},
   "outputs": [],
   "source": [
    "train_features = np.array(train.iloc[:, 1:])\n",
    "train_labels = np.array(train.iloc[:, 0])\n",
    "test_features = np.array(test.iloc[:, 1:])\n",
    "test_labels = np.array(test.iloc[:, 0])\n",
    "\n",
    "scaler = StandardScaler()\n",
    "scaler.fit(train_features)\n",
    "\n",
    "train_features = scaler.transform(train_features)\n",
    "test_features = scaler.transform(test_features)"
   ]
  },
  {
   "cell_type": "code",
   "execution_count": 11,
   "metadata": {},
   "outputs": [],
   "source": [
    "pca = DimensionReduction(train_features, None)\n",
    "\n",
    "train_projected = pca.pca_transform(train_features)\n",
    "test_projected = pca.pca_transform(test_features)"
   ]
  },
  {
   "cell_type": "code",
   "execution_count": 12,
   "metadata": {},
   "outputs": [],
   "source": [
    "nb = NaiveBayes()\n",
    "nb.fit(train_projected, train_labels)"
   ]
  },
  {
   "cell_type": "code",
   "execution_count": 13,
   "metadata": {},
   "outputs": [
    {
     "name": "stdout",
     "output_type": "stream",
     "text": [
      "Test accuracy:  0.934776250365604\n",
      "Test precision:  0.943744538964675\n",
      "Test recall:  0.9347762503656039\n",
      "Test f1:  0.9380406006243139\n"
     ]
    }
   ],
   "source": [
    "test_pred = nb.predict(test_projected)\n",
    "print(\"Test accuracy: \", accuracy_score(test_labels, test_pred))\n",
    "print(\"Test precision: \", precision_score(test_labels, test_pred, average='macro'))\n",
    "print(\"Test recall: \", recall_score(test_labels, test_pred, average='macro'))\n",
    "print(\"Test f1: \", f1_score(test_labels, test_pred, average='macro'))"
   ]
  }
 ],
 "metadata": {
  "kernelspec": {
   "display_name": "349",
   "language": "python",
   "name": "python3"
  },
  "language_info": {
   "codemirror_mode": {
    "name": "ipython",
    "version": 3
   },
   "file_extension": ".py",
   "mimetype": "text/x-python",
   "name": "python",
   "nbconvert_exporter": "python",
   "pygments_lexer": "ipython3",
   "version": "3.10.13"
  }
 },
 "nbformat": 4,
 "nbformat_minor": 2
}
