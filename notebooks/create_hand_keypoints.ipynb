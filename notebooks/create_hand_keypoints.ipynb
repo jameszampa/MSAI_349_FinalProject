{
 "cells": [
  {
   "cell_type": "code",
   "execution_count": 7,
   "metadata": {},
   "outputs": [],
   "source": [
    "import os\n",
    "import cv2\n",
    "import numpy as np\n",
    "import mediapipe as mp\n",
    "\n",
    "from matplotlib import pyplot as plt\n",
    "from mediapipe.tasks import python\n",
    "from mediapipe.tasks.python import vision"
   ]
  },
  {
   "cell_type": "code",
   "execution_count": 8,
   "metadata": {},
   "outputs": [],
   "source": [
    "train_dataset_directory = os.path.join(\"..\", \"dataset\", \"try3\", \"archive\", \"asl_alphabet_train\", \"asl_alphabet_train\")"
   ]
  },
  {
   "cell_type": "code",
   "execution_count": 9,
   "metadata": {},
   "outputs": [
    {
     "name": "stderr",
     "output_type": "stream",
     "text": [
      "I0000 00:00:1700429812.113856  663785 gl_context_egl.cc:85] Successfully initialized EGL. Major : 1 Minor: 5\n",
      "I0000 00:00:1700429812.139379  663867 gl_context.cc:344] GL version: 3.2 (OpenGL ES 3.2 NVIDIA 535.54.03), renderer: NVIDIA RTX A6000/PCIe/SSE2\n"
     ]
    }
   ],
   "source": [
    "# Create hand landmarks models\n",
    "base_options = python.BaseOptions(model_asset_path='hand_landmarker.task')\n",
    "options = vision.HandLandmarkerOptions(base_options=base_options,\n",
    "                                    num_hands=1)\n",
    "detector = vision.HandLandmarker.create_from_options(options)\n",
    "\n",
    "def get_hand_landmarks(img):\n",
    "    # image = test_x[random_index].reshape(28, 28).astype(np.uint8)\n",
    "    image = cv2.resize(img, (224, 224))\n",
    "    gray_frame = mp.Image(image_format=mp.ImageFormat.SRGB, data=image)\n",
    "    detection_result = detector.detect(gray_frame)\n",
    "    return detection_result"
   ]
  },
  {
   "cell_type": "code",
   "execution_count": 10,
   "metadata": {},
   "outputs": [],
   "source": [
    "landmarks_json = {}"
   ]
  },
  {
   "cell_type": "code",
   "execution_count": 11,
   "metadata": {},
   "outputs": [],
   "source": [
    "def process_img(image_path, landmarks_json):\n",
    "    img = cv2.imread(image_path)\n",
    "    img = cv2.cvtColor(img, cv2.COLOR_BGR2RGB)\n",
    "    detection_result = get_hand_landmarks(img)\n",
    "    if len(detection_result.hand_landmarks) == 0:\n",
    "        return False\n",
    "    landmarks_json[image_path] = []\n",
    "    for landmark in detection_result.hand_landmarks:\n",
    "        for kp in landmark:\n",
    "            landmarks_json[image_path].append([kp.x, kp.y, kp.z])\n",
    "    return True"
   ]
  },
  {
   "cell_type": "code",
   "execution_count": 12,
   "metadata": {},
   "outputs": [
    {
     "name": "stdout",
     "output_type": "stream",
     "text": [
      "87000\n"
     ]
    }
   ],
   "source": [
    "img_paths = []\n",
    "\n",
    "for letter in os.listdir(train_dataset_directory):\n",
    "    letter_directory = os.path.join(train_dataset_directory, letter)\n",
    "    for image in os.listdir(letter_directory):\n",
    "        image_path = os.path.join(letter_directory, image)\n",
    "        img_paths.append(image_path)\n",
    "\n",
    "print(len(img_paths))"
   ]
  },
  {
   "cell_type": "code",
   "execution_count": 13,
   "metadata": {},
   "outputs": [
    {
     "data": {
      "text/plain": [
       "True"
      ]
     },
     "execution_count": 13,
     "metadata": {},
     "output_type": "execute_result"
    }
   ],
   "source": [
    "process_img(img_paths[0], landmarks_json)"
   ]
  },
  {
   "cell_type": "code",
   "execution_count": 14,
   "metadata": {},
   "outputs": [
    {
     "name": "stdout",
     "output_type": "stream",
     "text": [
      "1\n"
     ]
    }
   ],
   "source": [
    "print(len(landmarks_json))"
   ]
  },
  {
   "cell_type": "code",
   "execution_count": 15,
   "metadata": {},
   "outputs": [
    {
     "name": "stdout",
     "output_type": "stream",
     "text": [
      "Success rate: 100.00%\n",
      "Fail rate: 0.00%\n",
      "Total: 0.00\n",
      "Percentage: 0.00%\n",
      "Success rate: 60.40%\n",
      "Fail rate: 39.60%\n",
      "Total: 100.00\n",
      "Percentage: 0.11%\n",
      "Success rate: 63.68%\n",
      "Fail rate: 36.32%\n",
      "Total: 200.00\n",
      "Percentage: 0.23%\n"
     ]
    },
    {
     "ename": "KeyboardInterrupt",
     "evalue": "",
     "output_type": "error",
     "traceback": [
      "\u001b[0;31m---------------------------------------------------------------------------\u001b[0m",
      "\u001b[0;31mKeyboardInterrupt\u001b[0m                         Traceback (most recent call last)",
      "\u001b[1;32m/home/james/Projects/349/MSAI_349_FinalProject/notebooks/create_hand_keypoints.ipynb Cell 9\u001b[0m line \u001b[0;36m4\n\u001b[1;32m      <a href='vscode-notebook-cell://ssh-remote%2B192.168.4.69/home/james/Projects/349/MSAI_349_FinalProject/notebooks/create_hand_keypoints.ipynb#X11sdnNjb2RlLXJlbW90ZQ%3D%3D?line=1'>2</a>\u001b[0m fail_rate \u001b[39m=\u001b[39m \u001b[39m0\u001b[39m\n\u001b[1;32m      <a href='vscode-notebook-cell://ssh-remote%2B192.168.4.69/home/james/Projects/349/MSAI_349_FinalProject/notebooks/create_hand_keypoints.ipynb#X11sdnNjb2RlLXJlbW90ZQ%3D%3D?line=2'>3</a>\u001b[0m \u001b[39mfor\u001b[39;00m i, image_path \u001b[39min\u001b[39;00m \u001b[39menumerate\u001b[39m(img_paths):\n\u001b[0;32m----> <a href='vscode-notebook-cell://ssh-remote%2B192.168.4.69/home/james/Projects/349/MSAI_349_FinalProject/notebooks/create_hand_keypoints.ipynb#X11sdnNjb2RlLXJlbW90ZQ%3D%3D?line=3'>4</a>\u001b[0m     success \u001b[39m=\u001b[39m process_img(image_path, landmarks_json)\n\u001b[1;32m      <a href='vscode-notebook-cell://ssh-remote%2B192.168.4.69/home/james/Projects/349/MSAI_349_FinalProject/notebooks/create_hand_keypoints.ipynb#X11sdnNjb2RlLXJlbW90ZQ%3D%3D?line=4'>5</a>\u001b[0m     \u001b[39m# print(f\"Success: {success}\")\u001b[39;00m\n\u001b[1;32m      <a href='vscode-notebook-cell://ssh-remote%2B192.168.4.69/home/james/Projects/349/MSAI_349_FinalProject/notebooks/create_hand_keypoints.ipynb#X11sdnNjb2RlLXJlbW90ZQ%3D%3D?line=5'>6</a>\u001b[0m     \u001b[39mif\u001b[39;00m success:\n",
      "\u001b[1;32m/home/james/Projects/349/MSAI_349_FinalProject/notebooks/create_hand_keypoints.ipynb Cell 9\u001b[0m line \u001b[0;36m4\n\u001b[1;32m      <a href='vscode-notebook-cell://ssh-remote%2B192.168.4.69/home/james/Projects/349/MSAI_349_FinalProject/notebooks/create_hand_keypoints.ipynb#X11sdnNjb2RlLXJlbW90ZQ%3D%3D?line=1'>2</a>\u001b[0m img \u001b[39m=\u001b[39m cv2\u001b[39m.\u001b[39mimread(image_path)\n\u001b[1;32m      <a href='vscode-notebook-cell://ssh-remote%2B192.168.4.69/home/james/Projects/349/MSAI_349_FinalProject/notebooks/create_hand_keypoints.ipynb#X11sdnNjb2RlLXJlbW90ZQ%3D%3D?line=2'>3</a>\u001b[0m img \u001b[39m=\u001b[39m cv2\u001b[39m.\u001b[39mcvtColor(img, cv2\u001b[39m.\u001b[39mCOLOR_BGR2RGB)\n\u001b[0;32m----> <a href='vscode-notebook-cell://ssh-remote%2B192.168.4.69/home/james/Projects/349/MSAI_349_FinalProject/notebooks/create_hand_keypoints.ipynb#X11sdnNjb2RlLXJlbW90ZQ%3D%3D?line=3'>4</a>\u001b[0m detection_result \u001b[39m=\u001b[39m get_hand_landmarks(img)\n\u001b[1;32m      <a href='vscode-notebook-cell://ssh-remote%2B192.168.4.69/home/james/Projects/349/MSAI_349_FinalProject/notebooks/create_hand_keypoints.ipynb#X11sdnNjb2RlLXJlbW90ZQ%3D%3D?line=4'>5</a>\u001b[0m \u001b[39mif\u001b[39;00m \u001b[39mlen\u001b[39m(detection_result\u001b[39m.\u001b[39mhand_landmarks) \u001b[39m==\u001b[39m \u001b[39m0\u001b[39m:\n\u001b[1;32m      <a href='vscode-notebook-cell://ssh-remote%2B192.168.4.69/home/james/Projects/349/MSAI_349_FinalProject/notebooks/create_hand_keypoints.ipynb#X11sdnNjb2RlLXJlbW90ZQ%3D%3D?line=5'>6</a>\u001b[0m     \u001b[39mreturn\u001b[39;00m \u001b[39mFalse\u001b[39;00m\n",
      "\u001b[1;32m/home/james/Projects/349/MSAI_349_FinalProject/notebooks/create_hand_keypoints.ipynb Cell 9\u001b[0m line \u001b[0;36m1\n\u001b[1;32m      <a href='vscode-notebook-cell://ssh-remote%2B192.168.4.69/home/james/Projects/349/MSAI_349_FinalProject/notebooks/create_hand_keypoints.ipynb#X11sdnNjb2RlLXJlbW90ZQ%3D%3D?line=8'>9</a>\u001b[0m image \u001b[39m=\u001b[39m cv2\u001b[39m.\u001b[39mresize(img, (\u001b[39m224\u001b[39m, \u001b[39m224\u001b[39m))\n\u001b[1;32m     <a href='vscode-notebook-cell://ssh-remote%2B192.168.4.69/home/james/Projects/349/MSAI_349_FinalProject/notebooks/create_hand_keypoints.ipynb#X11sdnNjb2RlLXJlbW90ZQ%3D%3D?line=9'>10</a>\u001b[0m gray_frame \u001b[39m=\u001b[39m mp\u001b[39m.\u001b[39mImage(image_format\u001b[39m=\u001b[39mmp\u001b[39m.\u001b[39mImageFormat\u001b[39m.\u001b[39mSRGB, data\u001b[39m=\u001b[39mimage)\n\u001b[0;32m---> <a href='vscode-notebook-cell://ssh-remote%2B192.168.4.69/home/james/Projects/349/MSAI_349_FinalProject/notebooks/create_hand_keypoints.ipynb#X11sdnNjb2RlLXJlbW90ZQ%3D%3D?line=10'>11</a>\u001b[0m detection_result \u001b[39m=\u001b[39m detector\u001b[39m.\u001b[39;49mdetect(gray_frame)\n\u001b[1;32m     <a href='vscode-notebook-cell://ssh-remote%2B192.168.4.69/home/james/Projects/349/MSAI_349_FinalProject/notebooks/create_hand_keypoints.ipynb#X11sdnNjb2RlLXJlbW90ZQ%3D%3D?line=11'>12</a>\u001b[0m \u001b[39mreturn\u001b[39;00m detection_result\n",
      "File \u001b[0;32m~/anaconda3/envs/349/lib/python3.10/site-packages/mediapipe/tasks/python/vision/hand_landmarker.py:401\u001b[0m, in \u001b[0;36mHandLandmarker.detect\u001b[0;34m(self, image, image_processing_options)\u001b[0m\n\u001b[1;32m    378\u001b[0m \u001b[39m\u001b[39m\u001b[39m\"\"\"Performs hand landmarks detection on the given image.\u001b[39;00m\n\u001b[1;32m    379\u001b[0m \n\u001b[1;32m    380\u001b[0m \u001b[39mOnly use this method when the HandLandmarker is created with the image\u001b[39;00m\n\u001b[0;32m   (...)\u001b[0m\n\u001b[1;32m    396\u001b[0m \u001b[39m  RuntimeError: If hand landmarker detection failed to run.\u001b[39;00m\n\u001b[1;32m    397\u001b[0m \u001b[39m\"\"\"\u001b[39;00m\n\u001b[1;32m    398\u001b[0m normalized_rect \u001b[39m=\u001b[39m \u001b[39mself\u001b[39m\u001b[39m.\u001b[39mconvert_to_normalized_rect(\n\u001b[1;32m    399\u001b[0m     image_processing_options, image, roi_allowed\u001b[39m=\u001b[39m\u001b[39mFalse\u001b[39;00m\n\u001b[1;32m    400\u001b[0m )\n\u001b[0;32m--> 401\u001b[0m output_packets \u001b[39m=\u001b[39m \u001b[39mself\u001b[39;49m\u001b[39m.\u001b[39;49m_process_image_data({\n\u001b[1;32m    402\u001b[0m     _IMAGE_IN_STREAM_NAME: packet_creator\u001b[39m.\u001b[39;49mcreate_image(image),\n\u001b[1;32m    403\u001b[0m     _NORM_RECT_STREAM_NAME: packet_creator\u001b[39m.\u001b[39;49mcreate_proto(\n\u001b[1;32m    404\u001b[0m         normalized_rect\u001b[39m.\u001b[39;49mto_pb2()\n\u001b[1;32m    405\u001b[0m     ),\n\u001b[1;32m    406\u001b[0m })\n\u001b[1;32m    408\u001b[0m \u001b[39mif\u001b[39;00m output_packets[_HAND_LANDMARKS_STREAM_NAME]\u001b[39m.\u001b[39mis_empty():\n\u001b[1;32m    409\u001b[0m   \u001b[39mreturn\u001b[39;00m HandLandmarkerResult([], [], [])\n",
      "File \u001b[0;32m~/anaconda3/envs/349/lib/python3.10/site-packages/mediapipe/tasks/python/vision/core/base_vision_task_api.py:95\u001b[0m, in \u001b[0;36mBaseVisionTaskApi._process_image_data\u001b[0;34m(self, inputs)\u001b[0m\n\u001b[1;32m     90\u001b[0m \u001b[39mif\u001b[39;00m \u001b[39mself\u001b[39m\u001b[39m.\u001b[39m_running_mode \u001b[39m!=\u001b[39m _RunningMode\u001b[39m.\u001b[39mIMAGE:\n\u001b[1;32m     91\u001b[0m   \u001b[39mraise\u001b[39;00m \u001b[39mValueError\u001b[39;00m(\n\u001b[1;32m     92\u001b[0m       \u001b[39m'\u001b[39m\u001b[39mTask is not initialized with the image mode. Current running mode:\u001b[39m\u001b[39m'\u001b[39m\n\u001b[1;32m     93\u001b[0m       \u001b[39m+\u001b[39m \u001b[39mself\u001b[39m\u001b[39m.\u001b[39m_running_mode\u001b[39m.\u001b[39mname\n\u001b[1;32m     94\u001b[0m   )\n\u001b[0;32m---> 95\u001b[0m \u001b[39mreturn\u001b[39;00m \u001b[39mself\u001b[39;49m\u001b[39m.\u001b[39;49m_runner\u001b[39m.\u001b[39;49mprocess(inputs)\n",
      "\u001b[0;31mKeyboardInterrupt\u001b[0m: "
     ]
    }
   ],
   "source": [
    "success_rate = 0\n",
    "fail_rate = 0\n",
    "for i, image_path in enumerate(img_paths):\n",
    "    success = process_img(image_path, landmarks_json)\n",
    "    # print(f\"Success: {success}\")\n",
    "    if success:\n",
    "        success_rate += 1\n",
    "    else:\n",
    "        fail_rate += 1\n",
    "    if i % 100 == 0:\n",
    "        # print(f\"Success rate: {success_rate}, Fail rate: {fail_rate}\")\n",
    "        print(f\"Success rate: {success_rate / (success_rate + fail_rate) * 100:.2f}%\")\n",
    "        print(f\"Fail rate: {fail_rate / (success_rate + fail_rate) * 100:.2f}%\")\n",
    "        print(f\"Total: {i:.2f}\")\n",
    "        print(f\"Percentage: {(i / len(img_paths)) * 100:.2f}%\")\n"
   ]
  },
  {
   "cell_type": "markdown",
   "metadata": {},
   "source": [
    "https://www.kaggle.com/competitions/asl-fingerspelling/data"
   ]
  },
  {
   "cell_type": "code",
   "execution_count": null,
   "metadata": {},
   "outputs": [
    {
     "name": "stdout",
     "output_type": "stream",
     "text": [
      "64751\n"
     ]
    }
   ],
   "source": [
    "print(len(landmarks_json))"
   ]
  },
  {
   "cell_type": "code",
   "execution_count": null,
   "metadata": {},
   "outputs": [],
   "source": [
    "import json\n",
    "# write json with indentations\n",
    "with open('hand_landmarks.json', 'w', encoding='utf-8') as f:\n",
    "    json.dump(landmarks_json, f, indent=4)"
   ]
  },
  {
   "cell_type": "code",
   "execution_count": null,
   "metadata": {},
   "outputs": [],
   "source": [
    "import json"
   ]
  },
  {
   "cell_type": "code",
   "execution_count": null,
   "metadata": {},
   "outputs": [],
   "source": [
    "with open('hand_landmarks.json', encoding='utf-8') as f:\n",
    "    data = json.load(f)\n",
    "\n",
    "class_distribution = {}\n",
    "for i, (image_path, landmarks) in enumerate(data.items()):\n",
    "    # print(image_path)\n",
    "    # print(landmarks)\n",
    "\n",
    "    class_name = image_path.split(os.path.sep)[-2]\n",
    "    if class_name not in class_distribution:\n",
    "        class_distribution[class_name] = 0\n",
    "    class_distribution[class_name] += 1"
   ]
  },
  {
   "cell_type": "code",
   "execution_count": null,
   "metadata": {},
   "outputs": [
    {
     "data": {
      "image/png": "[encoded data removed]",
      "text/plain": [
       "<Figure size 640x480 with 1 Axes>"
      ]
     },
     "metadata": {},
     "output_type": "display_data"
    }
   ],
   "source": [
    "import pandas as pd\n",
    "\n",
    "df = pd.DataFrame.from_dict(class_distribution, orient='index', columns=['count'])\n",
    "# plot histogram\n",
    "df.plot(kind='bar')\n",
    "plt.xlabel(\"Class\")\n",
    "plt.ylabel(\"Count\")\n",
    "plt.title(\"Class Distribution for Hand Landmarks Dataset\")\n",
    "plt.show()"
   ]
  }
 ],
 "metadata": {
  "kernelspec": {
   "display_name": "349",
   "language": "python",
   "name": "python3"
  },
  "language_info": {
   "codemirror_mode": {
    "name": "ipython",
    "version": 3
   },
   "file_extension": ".py",
   "mimetype": "text/x-python",
   "name": "python",
   "nbconvert_exporter": "python",
   "pygments_lexer": "ipython3",
   "version": "3.10.13"
  }
 },
 "nbformat": 4,
 "nbformat_minor": 2
}
