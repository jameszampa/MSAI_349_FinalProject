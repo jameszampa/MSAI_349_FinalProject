{
  "nbformat": 4,
  "nbformat_minor": 0,
  "metadata": {
    "colab": {
      "provenance": []
    },
    "kernelspec": {
      "name": "python3",
      "display_name": "Python 3"
    },
    "language_info": {
      "name": "python"
    },
    "accelerator": "GPU"
  },
  "cells": [
    {
      "cell_type": "markdown",
      "metadata": {
        "id": "RJ2u12v1N4wk"
      },
      "source": [
        "Just some imports to get out of the way"
      ]
    },
    {
      "cell_type": "code",
      "metadata": {
        "id": "yC20O-RCNrOE"
      },
      "source": [
        "import torch\n",
        "from torch import nn\n",
        "from torch.utils.data import DataLoader\n",
        "from torchvision import datasets\n",
        "#from torchvision.transforms import ToTensor, Lambda, Compose\n",
        "import matplotlib.pyplot as plt\n",
        "import pandas as pd\n",
        "import numpy as np\n",
        "from sklearn.preprocessing import MinMaxScaler\n",
        "import datetime\n",
        "\n",
        "%matplotlib inline"
      ],
      "execution_count": null,
      "outputs": []
    },
    {
      "cell_type": "code",
      "metadata": {
        "id": "jnAr-qY3Y2So"
      },
      "source": [
        "device = \"cuda\" if torch.cuda.is_available() else \"cpu\""
      ],
      "execution_count": null,
      "outputs": []
    },
    {
      "cell_type": "markdown",
      "metadata": {
        "id": "-B76PDi1RS97"
      },
      "source": [
        "## Working with tensors"
      ]
    },
    {
      "cell_type": "code",
      "metadata": {
        "id": "xNmchcUWVLBk"
      },
      "source": [
        "n, k = 5, 5"
      ],
      "execution_count": null,
      "outputs": []
    },
    {
      "cell_type": "code",
      "metadata": {
        "id": "s2FeWFEDSHH6",
        "colab": {
          "base_uri": "https://localhost:8080/"
        },
        "outputId": "755309a7-2292-4d53-fb69-d6a4a02e1b31"
      },
      "source": [
        "x = torch.tensor([i for i in range(25)])\n",
        "x"
      ],
      "execution_count": null,
      "outputs": [
        {
          "output_type": "execute_result",
          "data": {
            "text/plain": [
              "tensor([ 0,  1,  2,  3,  4,  5,  6,  7,  8,  9, 10, 11, 12, 13, 14, 15, 16, 17,\n",
              "        18, 19, 20, 21, 22, 23, 24])"
            ]
          },
          "metadata": {},
          "execution_count": 126
        }
      ]
    },
    {
      "cell_type": "code",
      "source": [
        "# We can manipulate the shape of our data, adding and subtract dimensions.\n",
        "x = x.reshape(5, 5)\n",
        "x"
      ],
      "metadata": {
        "colab": {
          "base_uri": "https://localhost:8080/"
        },
        "id": "V9cOgNCtOahB",
        "outputId": "930359fc-b30b-4c48-f94c-bc0fd7a8b313"
      },
      "execution_count": null,
      "outputs": [
        {
          "output_type": "execute_result",
          "data": {
            "text/plain": [
              "tensor([[ 0,  1,  2,  3,  4],\n",
              "        [ 5,  6,  7,  8,  9],\n",
              "        [10, 11, 12, 13, 14],\n",
              "        [15, 16, 17, 18, 19],\n",
              "        [20, 21, 22, 23, 24]])"
            ]
          },
          "metadata": {},
          "execution_count": 127
        }
      ]
    },
    {
      "cell_type": "code",
      "source": [
        "c = x.cuda()\n",
        "print(c)\n",
        "print(c[2][2])\n"
      ],
      "metadata": {
        "colab": {
          "base_uri": "https://localhost:8080/"
        },
        "id": "SvXZT2yq2LBO",
        "outputId": "38bf5a97-9b7e-452c-e75c-e94b80f37a56"
      },
      "execution_count": null,
      "outputs": [
        {
          "output_type": "stream",
          "name": "stdout",
          "text": [
            "tensor([[ 0,  1,  2,  3,  4],\n",
            "        [ 5,  6,  7,  8,  9],\n",
            "        [10, 11, 12, 13, 14],\n",
            "        [15, 16, 17, 18, 19],\n",
            "        [20, 21, 22, 23, 24]], device='cuda:0')\n",
            "tensor(12, device='cuda:0')\n"
          ]
        }
      ]
    },
    {
      "cell_type": "code",
      "source": [
        "c = c.cpu()\n",
        "print(c)"
      ],
      "metadata": {
        "colab": {
          "base_uri": "https://localhost:8080/"
        },
        "id": "4xYF-8e32oGz",
        "outputId": "32e1087b-70e5-494f-fb5e-5450f94202ac"
      },
      "execution_count": null,
      "outputs": [
        {
          "output_type": "stream",
          "name": "stdout",
          "text": [
            "tensor([[ 0,  1,  2,  3,  4],\n",
            "        [ 5,  6,  7,  8,  9],\n",
            "        [10, 11, 12, 13, 14],\n",
            "        [15, 16, 17, 18, 19],\n",
            "        [20, 21, 22, 23, 24]])\n"
          ]
        }
      ]
    },
    {
      "cell_type": "code",
      "metadata": {
        "id": "YKjBv94uUd92"
      },
      "source": [
        "x = x.reshape(5, -1)\n",
        "x"
      ],
      "execution_count": null,
      "outputs": []
    },
    {
      "cell_type": "code",
      "metadata": {
        "id": "L_wRb0TlUn2r",
        "colab": {
          "base_uri": "https://localhost:8080/"
        },
        "outputId": "018f5dc6-50af-44d5-a412-e891f46a2736"
      },
      "source": [
        "x = x.unsqueeze(2)\n",
        "x"
      ],
      "execution_count": null,
      "outputs": [
        {
          "output_type": "execute_result",
          "data": {
            "text/plain": [
              "tensor([[[ 0],\n",
              "         [ 1],\n",
              "         [ 2],\n",
              "         [ 3],\n",
              "         [ 4]],\n",
              "\n",
              "        [[ 5],\n",
              "         [ 6],\n",
              "         [ 7],\n",
              "         [ 8],\n",
              "         [ 9]],\n",
              "\n",
              "        [[10],\n",
              "         [11],\n",
              "         [12],\n",
              "         [13],\n",
              "         [14]],\n",
              "\n",
              "        [[15],\n",
              "         [16],\n",
              "         [17],\n",
              "         [18],\n",
              "         [19]],\n",
              "\n",
              "        [[20],\n",
              "         [21],\n",
              "         [22],\n",
              "         [23],\n",
              "         [24]]])"
            ]
          },
          "metadata": {},
          "execution_count": 131
        }
      ]
    },
    {
      "cell_type": "code",
      "metadata": {
        "id": "uGaBMMDwUPUA",
        "colab": {
          "base_uri": "https://localhost:8080/"
        },
        "outputId": "6cbe6f5c-4c37-4005-dee4-abe9df55fc7f"
      },
      "source": [
        "x = x.squeeze()\n",
        "x"
      ],
      "execution_count": null,
      "outputs": [
        {
          "output_type": "execute_result",
          "data": {
            "text/plain": [
              "tensor([[ 0,  1,  2,  3,  4],\n",
              "        [ 5,  6,  7,  8,  9],\n",
              "        [10, 11, 12, 13, 14],\n",
              "        [15, 16, 17, 18, 19],\n",
              "        [20, 21, 22, 23, 24]])"
            ]
          },
          "metadata": {},
          "execution_count": 132
        }
      ]
    },
    {
      "cell_type": "code",
      "metadata": {
        "id": "JSNWvzW7VAwQ",
        "colab": {
          "base_uri": "https://localhost:8080/"
        },
        "outputId": "5f48a39f-5a53-495a-e594-7212b4e4fd7d"
      },
      "source": [
        "# Some useful short hands\n",
        "I = torch.eye(5)\n",
        "zeros = torch.zeros((n, k))\n",
        "ones = torch.ones((n, k))\n",
        "sevens = ones * 7\n",
        "\n",
        "print(I, '\\n')\n",
        "print(zeros, '\\n')\n",
        "print(ones,'\\n')\n",
        "print(sevens,'\\n')"
      ],
      "execution_count": null,
      "outputs": [
        {
          "output_type": "stream",
          "name": "stdout",
          "text": [
            "tensor([[1., 0., 0., 0., 0.],\n",
            "        [0., 1., 0., 0., 0.],\n",
            "        [0., 0., 1., 0., 0.],\n",
            "        [0., 0., 0., 1., 0.],\n",
            "        [0., 0., 0., 0., 1.]]) \n",
            "\n",
            "tensor([[0., 0., 0., 0., 0.],\n",
            "        [0., 0., 0., 0., 0.],\n",
            "        [0., 0., 0., 0., 0.],\n",
            "        [0., 0., 0., 0., 0.],\n",
            "        [0., 0., 0., 0., 0.]]) \n",
            "\n",
            "tensor([[1., 1., 1., 1., 1.],\n",
            "        [1., 1., 1., 1., 1.],\n",
            "        [1., 1., 1., 1., 1.],\n",
            "        [1., 1., 1., 1., 1.],\n",
            "        [1., 1., 1., 1., 1.]]) \n",
            "\n",
            "tensor([[7., 7., 7., 7., 7.],\n",
            "        [7., 7., 7., 7., 7.],\n",
            "        [7., 7., 7., 7., 7.],\n",
            "        [7., 7., 7., 7., 7.],\n",
            "        [7., 7., 7., 7., 7.]]) \n",
            "\n"
          ]
        }
      ]
    },
    {
      "cell_type": "code",
      "metadata": {
        "id": "k12rienDV2jc",
        "colab": {
          "base_uri": "https://localhost:8080/"
        },
        "outputId": "0e5640b6-dc86-4750-a326-4cd7b677ad62"
      },
      "source": [
        "x.type(torch.float)"
      ],
      "execution_count": null,
      "outputs": [
        {
          "output_type": "execute_result",
          "data": {
            "text/plain": [
              "tensor([[ 0.,  1.,  2.,  3.,  4.],\n",
              "        [ 5.,  6.,  7.,  8.,  9.],\n",
              "        [10., 11., 12., 13., 14.],\n",
              "        [15., 16., 17., 18., 19.],\n",
              "        [20., 21., 22., 23., 24.]])"
            ]
          },
          "metadata": {},
          "execution_count": 134
        }
      ]
    },
    {
      "cell_type": "markdown",
      "metadata": {
        "id": "fNzLigE-VuRO"
      },
      "source": [
        "## How about some math"
      ]
    },
    {
      "cell_type": "code",
      "metadata": {
        "id": "gBsE0ifZVwzY",
        "colab": {
          "base_uri": "https://localhost:8080/"
        },
        "outputId": "04251c0e-a0bd-479b-f967-32465460f645"
      },
      "source": [
        "x"
      ],
      "execution_count": null,
      "outputs": [
        {
          "output_type": "execute_result",
          "data": {
            "text/plain": [
              "tensor([[ 0,  1,  2,  3,  4],\n",
              "        [ 5,  6,  7,  8,  9],\n",
              "        [10, 11, 12, 13, 14],\n",
              "        [15, 16, 17, 18, 19],\n",
              "        [20, 21, 22, 23, 24]])"
            ]
          },
          "metadata": {},
          "execution_count": 135
        }
      ]
    },
    {
      "cell_type": "code",
      "metadata": {
        "colab": {
          "base_uri": "https://localhost:8080/"
        },
        "id": "J3_SYZ46TAvG",
        "outputId": "bc2703c1-7c93-48d3-bf3c-61e1da8ee271"
      },
      "source": [
        "x ** 2"
      ],
      "execution_count": null,
      "outputs": [
        {
          "output_type": "execute_result",
          "data": {
            "text/plain": [
              "tensor([[  0,   1,   4,   9,  16],\n",
              "        [ 25,  36,  49,  64,  81],\n",
              "        [100, 121, 144, 169, 196],\n",
              "        [225, 256, 289, 324, 361],\n",
              "        [400, 441, 484, 529, 576]])"
            ]
          },
          "metadata": {},
          "execution_count": 136
        }
      ]
    },
    {
      "cell_type": "code",
      "metadata": {
        "id": "fle2CPLETBul",
        "colab": {
          "base_uri": "https://localhost:8080/"
        },
        "outputId": "e23afc18-f4de-41b4-f6df-632adb367f16"
      },
      "source": [
        "x + 10"
      ],
      "execution_count": null,
      "outputs": [
        {
          "output_type": "execute_result",
          "data": {
            "text/plain": [
              "tensor([[10, 11, 12, 13, 14],\n",
              "        [15, 16, 17, 18, 19],\n",
              "        [20, 21, 22, 23, 24],\n",
              "        [25, 26, 27, 28, 29],\n",
              "        [30, 31, 32, 33, 34]])"
            ]
          },
          "metadata": {},
          "execution_count": 137
        }
      ]
    },
    {
      "cell_type": "code",
      "metadata": {
        "id": "xt2DQH-BWOj4",
        "colab": {
          "base_uri": "https://localhost:8080/"
        },
        "outputId": "825cefed-11fe-43cb-9dbb-b13057d6373e"
      },
      "source": [
        "1 / (x + 1)"
      ],
      "execution_count": null,
      "outputs": [
        {
          "output_type": "execute_result",
          "data": {
            "text/plain": [
              "tensor([[1.0000, 0.5000, 0.3333, 0.2500, 0.2000],\n",
              "        [0.1667, 0.1429, 0.1250, 0.1111, 0.1000],\n",
              "        [0.0909, 0.0833, 0.0769, 0.0714, 0.0667],\n",
              "        [0.0625, 0.0588, 0.0556, 0.0526, 0.0500],\n",
              "        [0.0476, 0.0455, 0.0435, 0.0417, 0.0400]])"
            ]
          },
          "metadata": {},
          "execution_count": 138
        }
      ]
    },
    {
      "cell_type": "code",
      "metadata": {
        "id": "dVZCyhY-TITp",
        "colab": {
          "base_uri": "https://localhost:8080/"
        },
        "outputId": "cb729da8-673e-4c27-f944-9dae04b30db1"
      },
      "source": [
        "print(x)\n",
        "x + torch.tensor([1, 2, 3, 4, 5])"
      ],
      "execution_count": null,
      "outputs": [
        {
          "output_type": "stream",
          "name": "stdout",
          "text": [
            "tensor([[ 0,  1,  2,  3,  4],\n",
            "        [ 5,  6,  7,  8,  9],\n",
            "        [10, 11, 12, 13, 14],\n",
            "        [15, 16, 17, 18, 19],\n",
            "        [20, 21, 22, 23, 24]])\n"
          ]
        },
        {
          "output_type": "execute_result",
          "data": {
            "text/plain": [
              "tensor([[ 1,  3,  5,  7,  9],\n",
              "        [ 6,  8, 10, 12, 14],\n",
              "        [11, 13, 15, 17, 19],\n",
              "        [16, 18, 20, 22, 24],\n",
              "        [21, 23, 25, 27, 29]])"
            ]
          },
          "metadata": {},
          "execution_count": 139
        }
      ]
    },
    {
      "cell_type": "code",
      "metadata": {
        "id": "pnR82fyoSdlh",
        "colab": {
          "base_uri": "https://localhost:8080/"
        },
        "outputId": "b8bae8af-ce45-45e0-f5fd-26ecd11ed40a"
      },
      "source": [
        "y = torch.rand(5, 5) * 25\n",
        "y"
      ],
      "execution_count": null,
      "outputs": [
        {
          "output_type": "execute_result",
          "data": {
            "text/plain": [
              "tensor([[ 9.8814,  3.4530, 13.6476, 11.3275, 16.3123],\n",
              "        [ 4.8228,  0.8957, 11.2766, 17.3057, 24.3833],\n",
              "        [20.6730,  4.8681, 13.0571, 19.4952, 22.2042],\n",
              "        [22.6135, 16.1096, 17.1943, 13.4908, 16.4697],\n",
              "        [ 2.3119,  7.1942, 20.6660,  5.1395,  9.0108]])"
            ]
          },
          "metadata": {},
          "execution_count": 140
        }
      ]
    },
    {
      "cell_type": "code",
      "metadata": {
        "id": "NEdM-7HiSvpN",
        "colab": {
          "base_uri": "https://localhost:8080/"
        },
        "outputId": "db68f983-e808-4634-8d0a-b96fd3081aca"
      },
      "source": [
        "x * y"
      ],
      "execution_count": null,
      "outputs": [
        {
          "output_type": "execute_result",
          "data": {
            "text/plain": [
              "tensor([[  0.0000,   3.4530,  27.2953,  33.9824,  65.2491],\n",
              "        [ 24.1141,   5.3744,  78.9363, 138.4459, 219.4493],\n",
              "        [206.7299,  53.5489, 156.6852, 253.4381, 310.8582],\n",
              "        [339.2029, 257.7534, 292.3023, 242.8345, 312.9234],\n",
              "        [ 46.2384, 151.0779, 454.6512, 118.2083, 216.2596]])"
            ]
          },
          "metadata": {},
          "execution_count": 141
        }
      ]
    },
    {
      "cell_type": "code",
      "source": [
        "a = torch.rand(3,2)\n",
        "b = torch.rand(2,1)\n",
        "c = torch.matmul(a,b)\n",
        "print('a:',a)\n",
        "print('b:',b)\n",
        "print('c:',c)"
      ],
      "metadata": {
        "colab": {
          "base_uri": "https://localhost:8080/"
        },
        "id": "UCqxa4JjYyUc",
        "outputId": "d79b0b4a-0514-4d0f-f6e6-e49b6c900993"
      },
      "execution_count": null,
      "outputs": [
        {
          "output_type": "stream",
          "name": "stdout",
          "text": [
            "a: tensor([[0.0839, 0.1867],\n",
            "        [0.7224, 0.4664],\n",
            "        [0.7655, 0.7425]])\n",
            "b: tensor([[0.7038],\n",
            "        [0.1959]])\n",
            "c: tensor([[0.0956],\n",
            "        [0.5998],\n",
            "        [0.6842]])\n"
          ]
        }
      ]
    },
    {
      "cell_type": "code",
      "metadata": {
        "id": "PEhKahIvS0id",
        "colab": {
          "base_uri": "https://localhost:8080/"
        },
        "outputId": "1b5fdfb5-55fc-4e07-b65e-ca1a1da5ba62"
      },
      "source": [
        "x.T"
      ],
      "execution_count": null,
      "outputs": [
        {
          "output_type": "execute_result",
          "data": {
            "text/plain": [
              "tensor([[ 0,  5, 10, 15, 20],\n",
              "        [ 1,  6, 11, 16, 21],\n",
              "        [ 2,  7, 12, 17, 22],\n",
              "        [ 3,  8, 13, 18, 23],\n",
              "        [ 4,  9, 14, 19, 24]])"
            ]
          },
          "metadata": {},
          "execution_count": 142
        }
      ]
    },
    {
      "cell_type": "markdown",
      "metadata": {
        "id": "00JZNEvdTrLz"
      },
      "source": [
        "## Lets work with some data"
      ]
    },
    {
      "cell_type": "code",
      "metadata": {
        "id": "OuSMXYC2OLhU",
        "colab": {
          "base_uri": "https://localhost:8080/"
        },
        "outputId": "60a58ed2-4466-4da2-a959-915f58d1ec40"
      },
      "source": [
        "traindf = pd.read_csv('sample_data/california_housing_train.csv')\n",
        "testdf = pd.read_csv('sample_data/california_housing_test.csv')\n",
        "\n",
        "print(traindf[:5])"
      ],
      "execution_count": null,
      "outputs": [
        {
          "output_type": "stream",
          "name": "stdout",
          "text": [
            "   longitude  latitude  housing_median_age  total_rooms  total_bedrooms  \\\n",
            "0    -114.31     34.19                15.0       5612.0          1283.0   \n",
            "1    -114.47     34.40                19.0       7650.0          1901.0   \n",
            "2    -114.56     33.69                17.0        720.0           174.0   \n",
            "3    -114.57     33.64                14.0       1501.0           337.0   \n",
            "4    -114.57     33.57                20.0       1454.0           326.0   \n",
            "\n",
            "   population  households  median_income  median_house_value  \n",
            "0      1015.0       472.0         1.4936             66900.0  \n",
            "1      1129.0       463.0         1.8200             80100.0  \n",
            "2       333.0       117.0         1.6509             85700.0  \n",
            "3       515.0       226.0         3.1917             73400.0  \n",
            "4       624.0       262.0         1.9250             65500.0  \n"
          ]
        }
      ]
    },
    {
      "cell_type": "code",
      "metadata": {
        "id": "_wdZp9vo8YJl",
        "colab": {
          "base_uri": "https://localhost:8080/"
        },
        "outputId": "890e65f7-01d2-4a8a-f53d-efaac17d236b"
      },
      "source": [
        "traindf.iloc[0]"
      ],
      "execution_count": null,
      "outputs": [
        {
          "output_type": "execute_result",
          "data": {
            "text/plain": [
              "longitude              -114.3100\n",
              "latitude                 34.1900\n",
              "housing_median_age       15.0000\n",
              "total_rooms            5612.0000\n",
              "total_bedrooms         1283.0000\n",
              "population             1015.0000\n",
              "households              472.0000\n",
              "median_income             1.4936\n",
              "median_house_value    66900.0000\n",
              "Name: 0, dtype: float64"
            ]
          },
          "metadata": {},
          "execution_count": 144
        }
      ]
    },
    {
      "cell_type": "code",
      "metadata": {
        "id": "LergLj3cA7km"
      },
      "source": [
        "sc = MinMaxScaler()\n",
        "train_numpy  = sc.fit_transform(traindf.values)\n",
        "test_numpy = sc.transform(testdf.values)"
      ],
      "execution_count": null,
      "outputs": []
    },
    {
      "cell_type": "code",
      "metadata": {
        "id": "uuuVhYKnBfvM",
        "colab": {
          "base_uri": "https://localhost:8080/"
        },
        "outputId": "b394c22b-ccb5-4ea2-b455-5a47b487f056"
      },
      "source": [
        "train_numpy[:5]"
      ],
      "execution_count": null,
      "outputs": [
        {
          "output_type": "execute_result",
          "data": {
            "text/plain": [
              "array([[1.        , 0.17534538, 0.2745098 , 0.14788454, 0.19894475,\n",
              "        0.02836402, 0.07745437, 0.06853009, 0.10701193],\n",
              "       [0.98406375, 0.19766206, 0.35294118, 0.20160801, 0.29484792,\n",
              "        0.03155918, 0.07597435, 0.09104012, 0.13422831],\n",
              "       [0.9750996 , 0.12221041, 0.31372549, 0.01892711, 0.02684668,\n",
              "        0.00924914, 0.01907581, 0.07937822, 0.14577466],\n",
              "       [0.97410359, 0.11689692, 0.25490196, 0.03951496, 0.05214153,\n",
              "        0.01435018, 0.03700049, 0.18563882, 0.12041394],\n",
              "       [0.97410359, 0.10945802, 0.37254902, 0.038276  , 0.05043451,\n",
              "        0.0174052 , 0.04292057, 0.0982814 , 0.10412534]])"
            ]
          },
          "metadata": {},
          "execution_count": 147
        }
      ]
    },
    {
      "cell_type": "code",
      "metadata": {
        "id": "WXyzi5yNRv9n",
        "colab": {
          "base_uri": "https://localhost:8080/"
        },
        "outputId": "81ecbc86-8ccc-4220-9b48-b7eb92993b26"
      },
      "source": [
        "train_tensor = torch.tensor(train_numpy)\n",
        "print(train_tensor[:5])"
      ],
      "execution_count": null,
      "outputs": [
        {
          "output_type": "stream",
          "name": "stdout",
          "text": [
            "tensor([[1.0000, 0.1753, 0.2745, 0.1479, 0.1989, 0.0284, 0.0775, 0.0685, 0.1070],\n",
            "        [0.9841, 0.1977, 0.3529, 0.2016, 0.2948, 0.0316, 0.0760, 0.0910, 0.1342],\n",
            "        [0.9751, 0.1222, 0.3137, 0.0189, 0.0268, 0.0092, 0.0191, 0.0794, 0.1458],\n",
            "        [0.9741, 0.1169, 0.2549, 0.0395, 0.0521, 0.0144, 0.0370, 0.1856, 0.1204],\n",
            "        [0.9741, 0.1095, 0.3725, 0.0383, 0.0504, 0.0174, 0.0429, 0.0983, 0.1041]],\n",
            "       dtype=torch.float64)\n"
          ]
        }
      ]
    },
    {
      "cell_type": "code",
      "metadata": {
        "id": "umsvoptpOS5a"
      },
      "source": [
        "class CustomHousingDataset(torch.utils.data.Dataset):\n",
        "  def __init__(self, file, scaler):\n",
        "    self.df = pd.read_csv(file)\n",
        "    self.sc = scaler\n",
        "\n",
        "  def __len__(self):\n",
        "    return self.df.shape[0]\n",
        "\n",
        "  def __getitem__(self, idx):\n",
        "    raw = self.df.iloc[idx].values\n",
        "    if type(idx) == int:\n",
        "      raw = raw.reshape(1, -1)\n",
        "    raw = self.sc.transform(raw)\n",
        "    data = torch.tensor(raw[:, :-1], dtype=torch.float32)\n",
        "    label = torch.tensor(raw[:, -1], dtype=torch.float32)\n",
        "    return data, label"
      ],
      "execution_count": null,
      "outputs": []
    },
    {
      "cell_type": "code",
      "metadata": {
        "id": "Blrs0xRwP6gP"
      },
      "source": [
        "train_data = CustomHousingDataset('sample_data/california_housing_train.csv', sc)\n",
        "test_data = CustomHousingDataset('sample_data/california_housing_test.csv', sc)\n",
        "\n",
        "train_loader = DataLoader(train_data, batch_size=64, shuffle=True)\n",
        "test_loader = DataLoader(test_data, batch_size=64, shuffle=True)"
      ],
      "execution_count": null,
      "outputs": []
    },
    {
      "cell_type": "code",
      "metadata": {
        "colab": {
          "base_uri": "https://localhost:8080/"
        },
        "id": "Mi516cGHB71J",
        "outputId": "c33a2b1c-24dd-4ded-953f-b8700e16ecb7"
      },
      "source": [
        "train_data[100:110]"
      ],
      "execution_count": null,
      "outputs": [
        {
          "output_type": "execute_result",
          "data": {
            "text/plain": [
              "(tensor([[0.8725, 0.0266, 0.1373, 0.0575, 0.0475, 0.0279, 0.0470, 0.4056],\n",
              "         [0.8725, 0.0159, 0.5686, 0.0246, 0.0273, 0.0181, 0.0242, 0.1432],\n",
              "         [0.8715, 0.0701, 0.7059, 0.0186, 0.0289, 0.0108, 0.0232, 0.1346],\n",
              "         [0.8715, 0.0351, 0.0392, 0.0429, 0.0490, 0.0281, 0.0511, 0.2503],\n",
              "         [0.8695, 0.0531, 0.3725, 0.0295, 0.0377, 0.0214, 0.0377, 0.1239],\n",
              "         [0.8695, 0.0531, 0.3137, 0.0265, 0.0357, 0.0208, 0.0355, 0.1066],\n",
              "         [0.8675, 0.0276, 0.4314, 0.0323, 0.0363, 0.0159, 0.0385, 0.1839],\n",
              "         [0.8625, 0.0266, 0.3333, 0.0412, 0.0526, 0.0325, 0.0562, 0.1158],\n",
              "         [0.8596, 0.0223, 0.2941, 0.0091, 0.0152, 0.0034, 0.0087, 0.1099],\n",
              "         [0.8586, 0.0871, 0.3529, 0.0197, 0.0368, 0.0133, 0.0276, 0.0878]]),\n",
              " tensor([0.2988, 0.1637, 0.1186, 0.1406, 0.0969, 0.0953, 0.2268, 0.0829, 0.1495,\n",
              "         0.0722]))"
            ]
          },
          "metadata": {},
          "execution_count": 151
        }
      ]
    },
    {
      "cell_type": "markdown",
      "metadata": {
        "id": "KT0Cb12ndYow"
      },
      "source": [
        "## LETS MODEL\n",
        "We'll start by defining some basic models, loss functions, and optimizers. These are the fundamental building blocks for any Deep Learning platform.\n",
        "\n",
        "Some common loss functions:\n",
        "  - CrossEntropy\n",
        "  - BCE (binary cross entropy)\n",
        "  - L1\n",
        "  - MSE (mean sqaure error aka L2)\n",
        "\n",
        "And for optimizers we use some form of gradient descent:\n",
        "- SGD (stochastic gradient decent)\n",
        "- RMSprop\n",
        "- Adagrad\n",
        "- Adam\n",
        "\n",
        "Once we get here, would could also do things like schedule the learning rate, etc."
      ]
    },
    {
      "cell_type": "code",
      "metadata": {
        "id": "WP3bROntQYnZ"
      },
      "source": [
        "class FeedForward(nn.Module):\n",
        "  def __init__(self):\n",
        "    super(FeedForward, self).__init__()\n",
        "    self.linear1 = nn.Linear(8, 32)\n",
        "    self.relu1 = nn.LeakyReLU()\n",
        "    self.linear2 = nn.Linear(32, 16)\n",
        "    self.relu2 = nn.LeakyReLU()\n",
        "    self.linear_out = nn.Linear(16, 1)\n",
        "\n",
        "  def forward(self, x):\n",
        "    x = self.linear1(x)\n",
        "    x = self.relu1(x)\n",
        "    x = self.linear2(x)\n",
        "    x = self.relu2(x)\n",
        "    x = self.linear_out(x)\n",
        "    return x\n"
      ],
      "execution_count": null,
      "outputs": []
    },
    {
      "cell_type": "code",
      "metadata": {
        "colab": {
          "base_uri": "https://localhost:8080/"
        },
        "id": "fLc_7fj0YTgB",
        "outputId": "bcfa1570-aaee-42e6-a049-2820d0cfeafd"
      },
      "source": [
        "ff = FeedForward()\n",
        "print(ff)"
      ],
      "execution_count": null,
      "outputs": [
        {
          "output_type": "stream",
          "name": "stdout",
          "text": [
            "FeedForward(\n",
            "  (linear1): Linear(in_features=8, out_features=32, bias=True)\n",
            "  (relu1): LeakyReLU(negative_slope=0.01)\n",
            "  (linear2): Linear(in_features=32, out_features=16, bias=True)\n",
            "  (relu2): LeakyReLU(negative_slope=0.01)\n",
            "  (linear_out): Linear(in_features=16, out_features=1, bias=True)\n",
            ")\n"
          ]
        }
      ]
    },
    {
      "cell_type": "code",
      "metadata": {
        "id": "tiDqxsVEYh0Y",
        "colab": {
          "base_uri": "https://localhost:8080/"
        },
        "outputId": "ced66575-020a-47f7-9de8-7ebf5d8bc754"
      },
      "source": [
        "loss_func = nn.MSELoss()\n",
        "optimizer = torch.optim.Adam(ff.parameters(), lr=1e-2)\n",
        "ff.eval()\n",
        "a, b = train_data[0]\n",
        "with torch.no_grad():\n",
        "  pred = ff(a)\n",
        "print('a:',a)\n",
        "print('b:',b)\n",
        "print('prediction:', pred)\n",
        "print('target:', b)\n",
        "print('error:', loss_func(pred, b.unsqueeze(0)))"
      ],
      "execution_count": null,
      "outputs": [
        {
          "output_type": "stream",
          "name": "stdout",
          "text": [
            "a: tensor([[1.0000, 0.1753, 0.2745, 0.1479, 0.1989, 0.0284, 0.0775, 0.0685]])\n",
            "b: tensor([0.1070])\n",
            "prediction: tensor([[-0.0775]])\n",
            "target: tensor([0.1070])\n",
            "error: tensor(0.0341)\n"
          ]
        }
      ]
    },
    {
      "cell_type": "markdown",
      "metadata": {
        "id": "kToju96kfuJp"
      },
      "source": [
        "### This is what we want to do, over the entire training data."
      ]
    },
    {
      "cell_type": "code",
      "metadata": {
        "id": "bn5wlVyrdIkP"
      },
      "source": [
        "def train(dataloader, model, loss_func, optimizer):\n",
        "  model.train()\n",
        "  train_loss = []\n",
        "\n",
        "  now = datetime.datetime.now()\n",
        "  for batch, (X, y) in enumerate(dataloader):\n",
        "    # ignore the first time we see this\n",
        "    # second time why is gpu better than cpu for this?\n",
        "    X, y = X.to(device), y.to(device)\n",
        "\n",
        "    # make some predictions and get the error\n",
        "    pred = model(X)\n",
        "    loss = loss_func(pred, y.unsqueeze(1))\n",
        "\n",
        "    # where the magic happens\n",
        "    # backpropogation\n",
        "    optimizer.zero_grad()\n",
        "    loss.backward()\n",
        "    optimizer.step()\n",
        "\n",
        "    if batch % 10 == 0:\n",
        "      loss, current = loss.item(), batch * len(X)\n",
        "      iters = 10 * len(X)\n",
        "      then = datetime.datetime.now()\n",
        "      iters /= (then - now).total_seconds()\n",
        "      print(f\"loss: {loss:>6f} [{current:>5d}/{17000}] ({iters:.1f} its/sec)\")\n",
        "      now = then\n",
        "      train_loss.append(loss)\n",
        "  return train_loss"
      ],
      "execution_count": null,
      "outputs": []
    },
    {
      "cell_type": "code",
      "metadata": {
        "id": "bDgB95AGjsGs"
      },
      "source": [
        "def test(dataloader, model, loss_func):\n",
        "  size = len(dataloader)\n",
        "  num_batches = 0\n",
        "  model.eval()\n",
        "  test_loss = 0\n",
        "\n",
        "  with torch.no_grad():\n",
        "    for X, y in dataloader:\n",
        "      X, y = X.to(device), y.to(device)\n",
        "      pred = model(X)\n",
        "      test_loss += loss_func(pred, y.unsqueeze(1)).item()\n",
        "      num_batches = num_batches + 1\n",
        "  test_loss /= num_batches\n",
        "  print(f\"Avg Loss: {test_loss:>8f}\\n\")\n",
        "  return test_loss"
      ],
      "execution_count": null,
      "outputs": []
    },
    {
      "cell_type": "code",
      "metadata": {
        "id": "XwUks9nVdIX8",
        "colab": {
          "base_uri": "https://localhost:8080/"
        },
        "outputId": "a5eab4a5-35b4-46dc-8c80-efc3361c00af"
      },
      "source": [
        "ff = FeedForward().to(device)\n",
        "loss_func = nn.MSELoss()\n",
        "optimizer = torch.optim.Adam(ff.parameters(), lr=1e-3)\n",
        "epochs = 10\n",
        "train_loss = []\n",
        "test_loss = []\n",
        "for t in range(epochs):\n",
        "  print(f\"Epoch {t+1}\\n------------------------------- \\n\")\n",
        "  losses = train(train_loader, ff, loss_func, optimizer)\n",
        "  train_loss.append(losses)\n",
        "  test_loss.append(test(test_loader, ff, loss_func))\n",
        "\n",
        "# Could add a condition that interrupts training when the loss doesn't change much\n",
        "print('Done!')"
      ],
      "execution_count": null,
      "outputs": [
        {
          "output_type": "stream",
          "name": "stdout",
          "text": [
            "Epoch 1\n",
            "------------------------------- \n",
            "\n",
            "loss: 0.119961 [    0/17000] (22001.4 its/sec)\n",
            "loss: 0.083868 [  640/17000] (2191.3 its/sec)\n",
            "loss: 0.060899 [ 1280/17000] (2194.6 its/sec)\n",
            "loss: 0.053186 [ 1920/17000] (2694.4 its/sec)\n",
            "loss: 0.047891 [ 2560/17000] (1643.4 its/sec)\n",
            "loss: 0.042635 [ 3200/17000] (1954.5 its/sec)\n",
            "loss: 0.057978 [ 3840/17000] (1231.3 its/sec)\n",
            "loss: 0.042396 [ 4480/17000] (1921.6 its/sec)\n",
            "loss: 0.039423 [ 5120/17000] (2047.7 its/sec)\n",
            "loss: 0.055261 [ 5760/17000] (2227.6 its/sec)\n",
            "loss: 0.037536 [ 6400/17000] (1971.0 its/sec)\n",
            "loss: 0.026084 [ 7040/17000] (1758.0 its/sec)\n",
            "loss: 0.023183 [ 7680/17000] (2034.5 its/sec)\n",
            "loss: 0.025530 [ 8320/17000] (1255.3 its/sec)\n",
            "loss: 0.024527 [ 8960/17000] (975.7 its/sec)\n",
            "loss: 0.021200 [ 9600/17000] (787.9 its/sec)\n",
            "loss: 0.030947 [10240/17000] (735.8 its/sec)\n",
            "loss: 0.026996 [10880/17000] (1255.7 its/sec)\n",
            "loss: 0.020426 [11520/17000] (1541.6 its/sec)\n",
            "loss: 0.016977 [12160/17000] (1687.8 its/sec)\n",
            "loss: 0.025383 [12800/17000] (2451.7 its/sec)\n",
            "loss: 0.023127 [13440/17000] (1565.4 its/sec)\n",
            "loss: 0.027034 [14080/17000] (1973.5 its/sec)\n",
            "loss: 0.026353 [14720/17000] (2158.1 its/sec)\n",
            "loss: 0.022684 [15360/17000] (2336.0 its/sec)\n",
            "loss: 0.017189 [16000/17000] (2507.3 its/sec)\n",
            "loss: 0.023666 [16640/17000] (2319.7 its/sec)\n",
            "Avg Loss: 0.021558\n",
            "\n",
            "Epoch 2\n",
            "------------------------------- \n",
            "\n",
            "loss: 0.016515 [    0/17000] (12081.9 its/sec)\n",
            "loss: 0.024258 [  640/17000] (2099.9 its/sec)\n",
            "loss: 0.048386 [ 1280/17000] (1942.2 its/sec)\n",
            "loss: 0.017783 [ 1920/17000] (1427.6 its/sec)\n",
            "loss: 0.018685 [ 2560/17000] (1748.0 its/sec)\n",
            "loss: 0.018257 [ 3200/17000] (4414.2 its/sec)\n",
            "loss: 0.020760 [ 3840/17000] (3598.8 its/sec)\n",
            "loss: 0.021923 [ 4480/17000] (4257.5 its/sec)\n",
            "loss: 0.018337 [ 5120/17000] (4202.5 its/sec)\n",
            "loss: 0.012664 [ 5760/17000] (4367.3 its/sec)\n",
            "loss: 0.016772 [ 6400/17000] (4296.4 its/sec)\n",
            "loss: 0.016343 [ 7040/17000] (4312.4 its/sec)\n",
            "loss: 0.019303 [ 7680/17000] (4331.0 its/sec)\n",
            "loss: 0.017768 [ 8320/17000] (4331.1 its/sec)\n",
            "loss: 0.009844 [ 8960/17000] (4334.0 its/sec)\n",
            "loss: 0.021067 [ 9600/17000] (4472.2 its/sec)\n",
            "loss: 0.011589 [10240/17000] (4376.8 its/sec)\n",
            "loss: 0.014972 [10880/17000] (4285.1 its/sec)\n",
            "loss: 0.020744 [11520/17000] (4031.8 its/sec)\n",
            "loss: 0.014662 [12160/17000] (4160.7 its/sec)\n",
            "loss: 0.020160 [12800/17000] (4401.8 its/sec)\n",
            "loss: 0.040360 [13440/17000] (4621.1 its/sec)\n",
            "loss: 0.028027 [14080/17000] (4440.9 its/sec)\n",
            "loss: 0.017992 [14720/17000] (4247.6 its/sec)\n",
            "loss: 0.019197 [15360/17000] (4269.3 its/sec)\n",
            "loss: 0.032423 [16000/17000] (4178.9 its/sec)\n",
            "loss: 0.020456 [16640/17000] (4343.2 its/sec)\n",
            "Avg Loss: 0.020151\n",
            "\n",
            "Epoch 3\n",
            "------------------------------- \n",
            "\n",
            "loss: 0.024957 [    0/17000] (33627.6 its/sec)\n",
            "loss: 0.013962 [  640/17000] (3035.3 its/sec)\n",
            "loss: 0.025479 [ 1280/17000] (3251.9 its/sec)\n",
            "loss: 0.020776 [ 1920/17000] (3171.6 its/sec)\n",
            "loss: 0.032963 [ 2560/17000] (3119.0 its/sec)\n",
            "loss: 0.019623 [ 3200/17000] (2886.4 its/sec)\n",
            "loss: 0.020085 [ 3840/17000] (2786.6 its/sec)\n",
            "loss: 0.015449 [ 4480/17000] (3263.9 its/sec)\n",
            "loss: 0.030869 [ 5120/17000] (4284.0 its/sec)\n",
            "loss: 0.020841 [ 5760/17000] (4743.1 its/sec)\n",
            "loss: 0.024304 [ 6400/17000] (3926.8 its/sec)\n",
            "loss: 0.021114 [ 7040/17000] (4390.1 its/sec)\n",
            "loss: 0.014097 [ 7680/17000] (4261.0 its/sec)\n",
            "loss: 0.026771 [ 8320/17000] (4440.0 its/sec)\n",
            "loss: 0.021365 [ 8960/17000] (4302.6 its/sec)\n",
            "loss: 0.026022 [ 9600/17000] (4399.9 its/sec)\n",
            "loss: 0.016443 [10240/17000] (4030.3 its/sec)\n",
            "loss: 0.015739 [10880/17000] (4106.0 its/sec)\n",
            "loss: 0.019344 [11520/17000] (4347.2 its/sec)\n",
            "loss: 0.024500 [12160/17000] (4569.8 its/sec)\n",
            "loss: 0.018698 [12800/17000] (4491.1 its/sec)\n",
            "loss: 0.018437 [13440/17000] (4448.7 its/sec)\n",
            "loss: 0.017633 [14080/17000] (3864.5 its/sec)\n",
            "loss: 0.013286 [14720/17000] (4278.7 its/sec)\n",
            "loss: 0.025531 [15360/17000] (3692.0 its/sec)\n",
            "loss: 0.008856 [16000/17000] (4420.1 its/sec)\n",
            "loss: 0.029276 [16640/17000] (4446.8 its/sec)\n",
            "Avg Loss: 0.018941\n",
            "\n",
            "Epoch 4\n",
            "------------------------------- \n",
            "\n",
            "loss: 0.018917 [    0/17000] (42703.7 its/sec)\n",
            "loss: 0.023937 [  640/17000] (4624.1 its/sec)\n",
            "loss: 0.017959 [ 1280/17000] (4429.3 its/sec)\n",
            "loss: 0.017799 [ 1920/17000] (3951.2 its/sec)\n",
            "loss: 0.019107 [ 2560/17000] (4350.6 its/sec)\n",
            "loss: 0.017693 [ 3200/17000] (4423.8 its/sec)\n",
            "loss: 0.017377 [ 3840/17000] (4207.7 its/sec)\n",
            "loss: 0.020148 [ 4480/17000] (4378.5 its/sec)\n",
            "loss: 0.015077 [ 5120/17000] (4506.1 its/sec)\n",
            "loss: 0.014937 [ 5760/17000] (4124.5 its/sec)\n",
            "loss: 0.023492 [ 6400/17000] (4480.1 its/sec)\n",
            "loss: 0.018395 [ 7040/17000] (4552.5 its/sec)\n",
            "loss: 0.020933 [ 7680/17000] (4493.7 its/sec)\n",
            "loss: 0.011095 [ 8320/17000] (4768.9 its/sec)\n",
            "loss: 0.019201 [ 8960/17000] (3932.4 its/sec)\n",
            "loss: 0.010409 [ 9600/17000] (4534.4 its/sec)\n",
            "loss: 0.016355 [10240/17000] (4419.4 its/sec)\n",
            "loss: 0.008886 [10880/17000] (4741.0 its/sec)\n",
            "loss: 0.016048 [11520/17000] (4334.3 its/sec)\n",
            "loss: 0.013109 [12160/17000] (4569.6 its/sec)\n",
            "loss: 0.026998 [12800/17000] (4560.0 its/sec)\n",
            "loss: 0.024473 [13440/17000] (4220.6 its/sec)\n",
            "loss: 0.021559 [14080/17000] (4391.7 its/sec)\n",
            "loss: 0.027383 [14720/17000] (4555.9 its/sec)\n",
            "loss: 0.022978 [15360/17000] (4246.9 its/sec)\n",
            "loss: 0.019324 [16000/17000] (4686.1 its/sec)\n",
            "loss: 0.013629 [16640/17000] (4494.3 its/sec)\n",
            "Avg Loss: 0.017897\n",
            "\n",
            "Epoch 5\n",
            "------------------------------- \n",
            "\n",
            "loss: 0.012280 [    0/17000] (39997.5 its/sec)\n",
            "loss: 0.027917 [  640/17000] (4440.9 its/sec)\n",
            "loss: 0.015794 [ 1280/17000] (4398.9 its/sec)\n",
            "loss: 0.015554 [ 1920/17000] (4777.6 its/sec)\n",
            "loss: 0.015527 [ 2560/17000] (3959.0 its/sec)\n",
            "loss: 0.016110 [ 3200/17000] (4625.1 its/sec)\n",
            "loss: 0.025655 [ 3840/17000] (4389.9 its/sec)\n",
            "loss: 0.006426 [ 4480/17000] (4548.8 its/sec)\n",
            "loss: 0.014721 [ 5120/17000] (3830.3 its/sec)\n",
            "loss: 0.019581 [ 5760/17000] (4350.5 its/sec)\n",
            "loss: 0.008001 [ 6400/17000] (4464.4 its/sec)\n",
            "loss: 0.014814 [ 7040/17000] (4285.6 its/sec)\n",
            "loss: 0.011143 [ 7680/17000] (4582.0 its/sec)\n",
            "loss: 0.020636 [ 8320/17000] (4889.1 its/sec)\n",
            "loss: 0.012075 [ 8960/17000] (2890.5 its/sec)\n",
            "loss: 0.014791 [ 9600/17000] (3025.8 its/sec)\n",
            "loss: 0.016656 [10240/17000] (3375.6 its/sec)\n",
            "loss: 0.011432 [10880/17000] (2940.3 its/sec)\n",
            "loss: 0.015004 [11520/17000] (3332.0 its/sec)\n",
            "loss: 0.017917 [12160/17000] (3060.3 its/sec)\n",
            "loss: 0.014626 [12800/17000] (3078.0 its/sec)\n",
            "loss: 0.022205 [13440/17000] (3268.8 its/sec)\n",
            "loss: 0.016715 [14080/17000] (2953.4 its/sec)\n",
            "loss: 0.017520 [14720/17000] (2782.3 its/sec)\n",
            "loss: 0.006462 [15360/17000] (2858.6 its/sec)\n",
            "loss: 0.016315 [16000/17000] (3931.1 its/sec)\n",
            "loss: 0.015165 [16640/17000] (4216.9 its/sec)\n",
            "Avg Loss: 0.017598\n",
            "\n",
            "Epoch 6\n",
            "------------------------------- \n",
            "\n",
            "loss: 0.020587 [    0/17000] (43284.2 its/sec)\n",
            "loss: 0.023906 [  640/17000] (4677.8 its/sec)\n",
            "loss: 0.012608 [ 1280/17000] (4421.8 its/sec)\n",
            "loss: 0.008643 [ 1920/17000] (4453.9 its/sec)\n",
            "loss: 0.020662 [ 2560/17000] (4081.8 its/sec)\n",
            "loss: 0.012998 [ 3200/17000] (4836.9 its/sec)\n",
            "loss: 0.022101 [ 3840/17000] (4284.5 its/sec)\n",
            "loss: 0.010858 [ 4480/17000] (4006.2 its/sec)\n",
            "loss: 0.018724 [ 5120/17000] (4366.2 its/sec)\n",
            "loss: 0.023143 [ 5760/17000] (4454.9 its/sec)\n",
            "loss: 0.014225 [ 6400/17000] (4404.1 its/sec)\n",
            "loss: 0.028481 [ 7040/17000] (4577.1 its/sec)\n",
            "loss: 0.016857 [ 7680/17000] (4787.3 its/sec)\n",
            "loss: 0.015935 [ 8320/17000] (4846.2 its/sec)\n",
            "loss: 0.025910 [ 8960/17000] (3927.9 its/sec)\n",
            "loss: 0.016122 [ 9600/17000] (4806.1 its/sec)\n",
            "loss: 0.022148 [10240/17000] (4509.0 its/sec)\n",
            "loss: 0.033591 [10880/17000] (4427.3 its/sec)\n",
            "loss: 0.025606 [11520/17000] (4324.3 its/sec)\n",
            "loss: 0.019860 [12160/17000] (4716.5 its/sec)\n",
            "loss: 0.014107 [12800/17000] (4325.0 its/sec)\n",
            "loss: 0.014488 [13440/17000] (4601.2 its/sec)\n",
            "loss: 0.019303 [14080/17000] (4416.7 its/sec)\n",
            "loss: 0.019696 [14720/17000] (4607.4 its/sec)\n",
            "loss: 0.011836 [15360/17000] (4292.7 its/sec)\n",
            "loss: 0.014922 [16000/17000] (4156.8 its/sec)\n",
            "loss: 0.017541 [16640/17000] (4648.8 its/sec)\n",
            "Avg Loss: 0.016874\n",
            "\n",
            "Epoch 7\n",
            "------------------------------- \n",
            "\n",
            "loss: 0.018245 [    0/17000] (40842.4 its/sec)\n",
            "loss: 0.023784 [  640/17000] (4567.3 its/sec)\n",
            "loss: 0.019461 [ 1280/17000] (4296.8 its/sec)\n",
            "loss: 0.014517 [ 1920/17000] (4547.8 its/sec)\n",
            "loss: 0.023463 [ 2560/17000] (3974.4 its/sec)\n",
            "loss: 0.011240 [ 3200/17000] (4594.0 its/sec)\n",
            "loss: 0.012777 [ 3840/17000] (4282.6 its/sec)\n",
            "loss: 0.014397 [ 4480/17000] (4314.1 its/sec)\n",
            "loss: 0.025439 [ 5120/17000] (4643.9 its/sec)\n",
            "loss: 0.016505 [ 5760/17000] (4288.1 its/sec)\n",
            "loss: 0.013409 [ 6400/17000] (4491.3 its/sec)\n",
            "loss: 0.018888 [ 7040/17000] (4497.4 its/sec)\n",
            "loss: 0.018123 [ 7680/17000] (4592.1 its/sec)\n",
            "loss: 0.014377 [ 8320/17000] (4384.6 its/sec)\n",
            "loss: 0.016761 [ 8960/17000] (4275.0 its/sec)\n",
            "loss: 0.011596 [ 9600/17000] (4477.0 its/sec)\n",
            "loss: 0.021871 [10240/17000] (4107.4 its/sec)\n",
            "loss: 0.019411 [10880/17000] (4195.6 its/sec)\n",
            "loss: 0.022576 [11520/17000] (4454.7 its/sec)\n",
            "loss: 0.022242 [12160/17000] (4449.5 its/sec)\n",
            "loss: 0.029551 [12800/17000] (4342.1 its/sec)\n",
            "loss: 0.018038 [13440/17000] (4558.4 its/sec)\n",
            "loss: 0.019609 [14080/17000] (4449.9 its/sec)\n",
            "loss: 0.030310 [14720/17000] (4316.3 its/sec)\n",
            "loss: 0.017280 [15360/17000] (4521.1 its/sec)\n",
            "loss: 0.019628 [16000/17000] (4471.3 its/sec)\n",
            "loss: 0.017583 [16640/17000] (4358.5 its/sec)\n",
            "Avg Loss: 0.016667\n",
            "\n",
            "Epoch 8\n",
            "------------------------------- \n",
            "\n",
            "loss: 0.009738 [    0/17000] (43295.9 its/sec)\n",
            "loss: 0.013031 [  640/17000] (3737.3 its/sec)\n",
            "loss: 0.016365 [ 1280/17000] (2906.9 its/sec)\n",
            "loss: 0.011490 [ 1920/17000] (2923.9 its/sec)\n",
            "loss: 0.019392 [ 2560/17000] (3322.7 its/sec)\n",
            "loss: 0.024636 [ 3200/17000] (3032.8 its/sec)\n",
            "loss: 0.012832 [ 3840/17000] (3373.7 its/sec)\n",
            "loss: 0.013279 [ 4480/17000] (2978.6 its/sec)\n",
            "loss: 0.016704 [ 5120/17000] (3248.8 its/sec)\n",
            "loss: 0.016965 [ 5760/17000] (3034.9 its/sec)\n",
            "loss: 0.010675 [ 6400/17000] (2551.9 its/sec)\n",
            "loss: 0.010102 [ 7040/17000] (2792.8 its/sec)\n",
            "loss: 0.012399 [ 7680/17000] (2886.5 its/sec)\n",
            "loss: 0.020769 [ 8320/17000] (4338.0 its/sec)\n",
            "loss: 0.010961 [ 8960/17000] (4174.4 its/sec)\n",
            "loss: 0.018401 [ 9600/17000] (4106.9 its/sec)\n",
            "loss: 0.011477 [10240/17000] (4006.2 its/sec)\n",
            "loss: 0.021743 [10880/17000] (4431.6 its/sec)\n",
            "loss: 0.009980 [11520/17000] (4284.3 its/sec)\n",
            "loss: 0.023244 [12160/17000] (4440.3 its/sec)\n",
            "loss: 0.033029 [12800/17000] (4294.0 its/sec)\n",
            "loss: 0.007201 [13440/17000] (4425.3 its/sec)\n",
            "loss: 0.015666 [14080/17000] (3963.5 its/sec)\n",
            "loss: 0.022088 [14720/17000] (4365.7 its/sec)\n",
            "loss: 0.015145 [15360/17000] (4433.5 its/sec)\n",
            "loss: 0.011394 [16000/17000] (4632.9 its/sec)\n",
            "loss: 0.021681 [16640/17000] (4506.7 its/sec)\n",
            "Avg Loss: 0.016467\n",
            "\n",
            "Epoch 9\n",
            "------------------------------- \n",
            "\n",
            "loss: 0.010776 [    0/17000] (33694.9 its/sec)\n",
            "loss: 0.028214 [  640/17000] (4263.1 its/sec)\n",
            "loss: 0.012812 [ 1280/17000] (4665.2 its/sec)\n",
            "loss: 0.018522 [ 1920/17000] (4398.2 its/sec)\n",
            "loss: 0.016227 [ 2560/17000] (4299.1 its/sec)\n",
            "loss: 0.027379 [ 3200/17000] (4178.1 its/sec)\n",
            "loss: 0.008005 [ 3840/17000] (4425.5 its/sec)\n",
            "loss: 0.011849 [ 4480/17000] (4510.3 its/sec)\n",
            "loss: 0.016141 [ 5120/17000] (4250.4 its/sec)\n",
            "loss: 0.015954 [ 5760/17000] (4567.7 its/sec)\n",
            "loss: 0.012367 [ 6400/17000] (4299.5 its/sec)\n",
            "loss: 0.029203 [ 7040/17000] (4397.5 its/sec)\n",
            "loss: 0.012606 [ 7680/17000] (3850.3 its/sec)\n",
            "loss: 0.017118 [ 8320/17000] (4496.4 its/sec)\n",
            "loss: 0.009897 [ 8960/17000] (4266.6 its/sec)\n",
            "loss: 0.023570 [ 9600/17000] (4390.9 its/sec)\n",
            "loss: 0.013114 [10240/17000] (4293.1 its/sec)\n",
            "loss: 0.020682 [10880/17000] (4711.6 its/sec)\n",
            "loss: 0.019862 [11520/17000] (4287.8 its/sec)\n",
            "loss: 0.021150 [12160/17000] (4474.5 its/sec)\n",
            "loss: 0.025283 [12800/17000] (4357.4 its/sec)\n",
            "loss: 0.030563 [13440/17000] (4562.1 its/sec)\n",
            "loss: 0.022851 [14080/17000] (4415.7 its/sec)\n",
            "loss: 0.009129 [14720/17000] (4558.0 its/sec)\n",
            "loss: 0.024351 [15360/17000] (4357.4 its/sec)\n",
            "loss: 0.014407 [16000/17000] (4673.9 its/sec)\n",
            "loss: 0.015406 [16640/17000] (3772.8 its/sec)\n",
            "Avg Loss: 0.016675\n",
            "\n",
            "Epoch 10\n",
            "------------------------------- \n",
            "\n",
            "loss: 0.008894 [    0/17000] (42091.4 its/sec)\n",
            "loss: 0.019205 [  640/17000] (4454.9 its/sec)\n",
            "loss: 0.013172 [ 1280/17000] (4138.1 its/sec)\n",
            "loss: 0.027454 [ 1920/17000] (4585.8 its/sec)\n",
            "loss: 0.018554 [ 2560/17000] (4293.6 its/sec)\n",
            "loss: 0.018500 [ 3200/17000] (4328.2 its/sec)\n",
            "loss: 0.012018 [ 3840/17000] (4219.4 its/sec)\n",
            "loss: 0.020615 [ 4480/17000] (4566.3 its/sec)\n",
            "loss: 0.014993 [ 5120/17000] (4224.5 its/sec)\n",
            "loss: 0.017118 [ 5760/17000] (4396.4 its/sec)\n",
            "loss: 0.018660 [ 6400/17000] (4454.3 its/sec)\n",
            "loss: 0.023023 [ 7040/17000] (4614.8 its/sec)\n",
            "loss: 0.016963 [ 7680/17000] (4230.8 its/sec)\n",
            "loss: 0.011540 [ 8320/17000] (4255.5 its/sec)\n",
            "loss: 0.013465 [ 8960/17000] (4290.7 its/sec)\n",
            "loss: 0.028326 [ 9600/17000] (4404.5 its/sec)\n",
            "loss: 0.017558 [10240/17000] (3529.1 its/sec)\n",
            "loss: 0.015769 [10880/17000] (4297.4 its/sec)\n",
            "loss: 0.019873 [11520/17000] (3712.0 its/sec)\n",
            "loss: 0.014387 [12160/17000] (2741.7 its/sec)\n",
            "loss: 0.011772 [12800/17000] (3074.8 its/sec)\n",
            "loss: 0.016016 [13440/17000] (3007.3 its/sec)\n",
            "loss: 0.026699 [14080/17000] (3051.8 its/sec)\n",
            "loss: 0.010912 [14720/17000] (3060.9 its/sec)\n",
            "loss: 0.014222 [15360/17000] (3108.3 its/sec)\n",
            "loss: 0.014376 [16000/17000] (2973.1 its/sec)\n",
            "loss: 0.015211 [16640/17000] (2963.8 its/sec)\n",
            "Avg Loss: 0.016359\n",
            "\n",
            "Done!\n"
          ]
        }
      ]
    },
    {
      "cell_type": "code",
      "metadata": {
        "colab": {
          "base_uri": "https://localhost:8080/",
          "height": 447
        },
        "id": "xh24R8-VdIN8",
        "outputId": "fa138b15-3f6c-4fbc-cfcf-ed1d5b83ea26"
      },
      "source": [
        "plt.plot([i for i in range(len(train_loss))], torch.tensor(train_loss).mean(axis=1))"
      ],
      "execution_count": null,
      "outputs": [
        {
          "output_type": "execute_result",
          "data": {
            "text/plain": [
              "[<matplotlib.lines.Line2D at 0x7a244ac1dba0>]"
            ]
          },
          "metadata": {},
          "execution_count": 119
        },
        {
          "output_type": "display_data",
          "data": {
            "text/plain": [
              "<Figure size 640x480 with 1 Axes>"
            ],
            "image/png": "[encoded data removed]"
          },
          "metadata": {}
        }
      ]
    },
    {
      "cell_type": "code",
      "metadata": {
        "colab": {
          "base_uri": "https://localhost:8080/",
          "height": 447
        },
        "id": "lbFlT5DCtWp9",
        "outputId": "76d38de6-253f-48d4-8c65-6557aa6d050d"
      },
      "source": [
        "plt.plot([i for i in range(len(test_loss))], test_loss)"
      ],
      "execution_count": null,
      "outputs": [
        {
          "output_type": "execute_result",
          "data": {
            "text/plain": [
              "[<matplotlib.lines.Line2D at 0x7a244ac86590>]"
            ]
          },
          "metadata": {},
          "execution_count": 121
        },
        {
          "output_type": "display_data",
          "data": {
            "text/plain": [
              "<Figure size 640x480 with 1 Axes>"
            ],
            "image/png": "[encoded data removed]"
          },
          "metadata": {}
        }
      ]
    },
    {
      "cell_type": "code",
      "metadata": {
        "colab": {
          "base_uri": "https://localhost:8080/"
        },
        "id": "Tck5Qq4dIUTB",
        "outputId": "da5be816-2f8c-41ba-ba0b-3980b3cfb599"
      },
      "source": [
        "ff.eval()\n",
        "with torch.no_grad():\n",
        "  x, y = train_data[4]\n",
        "  x = x.to(device)\n",
        "  y = y.to(device)\n",
        "\n",
        "  pred = ff(x)\n",
        "  print(pred)\n",
        "  print(y)\n",
        "print(loss_func(pred, y.unsqueeze(1)).item())"
      ],
      "execution_count": null,
      "outputs": [
        {
          "output_type": "stream",
          "name": "stdout",
          "text": [
            "tensor([[0.0137]], device='cuda:0')\n",
            "tensor([0.1041], device='cuda:0')\n",
            "0.008179862052202225\n"
          ]
        }
      ]
    },
    {
      "cell_type": "code",
      "metadata": {
        "id": "I9Uj_4mudDFY"
      },
      "source": [],
      "execution_count": null,
      "outputs": []
    }
  ]
}